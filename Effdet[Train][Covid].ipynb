{
  "nbformat": 4,
  "nbformat_minor": 0,
  "metadata": {
    "colab": {
      "name": "Effdet[Train][Covid].ipynb",
      "provenance": [],
      "machine_shape": "hm",
      "authorship_tag": "ABX9TyMrAFa2Jsshqj8UaQCGuvd0",
      "include_colab_link": true
    },
    "kernelspec": {
      "name": "python3",
      "display_name": "Python 3"
    },
    "language_info": {
      "name": "python"
    },
    "accelerator": "GPU",
    "widgets": {
      "application/vnd.jupyter.widget-state+json": {
        "4a1b40e9bc4d4ecd89a3919a915d3f31": {
          "model_module": "@jupyter-widgets/controls",
          "model_name": "HBoxModel",
          "state": {
            "_view_name": "HBoxView",
            "_dom_classes": [],
            "_model_name": "HBoxModel",
            "_view_module": "@jupyter-widgets/controls",
            "_model_module_version": "1.5.0",
            "_view_count": null,
            "_view_module_version": "1.5.0",
            "box_style": "",
            "layout": "IPY_MODEL_a92a7009c9d8448e9ceaaadafdc02873",
            "_model_module": "@jupyter-widgets/controls",
            "children": [
              "IPY_MODEL_72be929ea5304211ae1077c797fbbe2b",
              "IPY_MODEL_d9cb31fda0134121b2bfaf04b2ad42ed"
            ]
          }
        },
        "a92a7009c9d8448e9ceaaadafdc02873": {
          "model_module": "@jupyter-widgets/base",
          "model_name": "LayoutModel",
          "state": {
            "_view_name": "LayoutView",
            "grid_template_rows": null,
            "right": null,
            "justify_content": null,
            "_view_module": "@jupyter-widgets/base",
            "overflow": null,
            "_model_module_version": "1.2.0",
            "_view_count": null,
            "flex_flow": null,
            "width": null,
            "min_width": null,
            "border": null,
            "align_items": null,
            "bottom": null,
            "_model_module": "@jupyter-widgets/base",
            "top": null,
            "grid_column": null,
            "overflow_y": null,
            "overflow_x": null,
            "grid_auto_flow": null,
            "grid_area": null,
            "grid_template_columns": null,
            "flex": null,
            "_model_name": "LayoutModel",
            "justify_items": null,
            "grid_row": null,
            "max_height": null,
            "align_content": null,
            "visibility": null,
            "align_self": null,
            "height": null,
            "min_height": null,
            "padding": null,
            "grid_auto_rows": null,
            "grid_gap": null,
            "max_width": null,
            "order": null,
            "_view_module_version": "1.2.0",
            "grid_template_areas": null,
            "object_position": null,
            "object_fit": null,
            "grid_auto_columns": null,
            "margin": null,
            "display": null,
            "left": null
          }
        },
        "72be929ea5304211ae1077c797fbbe2b": {
          "model_module": "@jupyter-widgets/controls",
          "model_name": "FloatProgressModel",
          "state": {
            "_view_name": "ProgressView",
            "style": "IPY_MODEL_18d74a9b404d475180bc3406ccb97777",
            "_dom_classes": [],
            "description": "",
            "_model_name": "FloatProgressModel",
            "bar_style": "success",
            "max": 1,
            "_view_module": "@jupyter-widgets/controls",
            "_model_module_version": "1.5.0",
            "value": 1,
            "_view_count": null,
            "_view_module_version": "1.5.0",
            "orientation": "horizontal",
            "min": 0,
            "description_tooltip": null,
            "_model_module": "@jupyter-widgets/controls",
            "layout": "IPY_MODEL_48ed684db1d54278a65245244691cf36"
          }
        },
        "d9cb31fda0134121b2bfaf04b2ad42ed": {
          "model_module": "@jupyter-widgets/controls",
          "model_name": "HTMLModel",
          "state": {
            "_view_name": "HTMLView",
            "style": "IPY_MODEL_134db87997d748b5880b5fa6daf09e8e",
            "_dom_classes": [],
            "description": "",
            "_model_name": "HTMLModel",
            "placeholder": "​",
            "_view_module": "@jupyter-widgets/controls",
            "_model_module_version": "1.5.0",
            "value": " 3321/? [00:32&lt;00:00, 103.17it/s]",
            "_view_count": null,
            "_view_module_version": "1.5.0",
            "description_tooltip": null,
            "_model_module": "@jupyter-widgets/controls",
            "layout": "IPY_MODEL_8bb6b3466c4e42f88da728b6538b5571"
          }
        },
        "18d74a9b404d475180bc3406ccb97777": {
          "model_module": "@jupyter-widgets/controls",
          "model_name": "ProgressStyleModel",
          "state": {
            "_view_name": "StyleView",
            "_model_name": "ProgressStyleModel",
            "description_width": "initial",
            "_view_module": "@jupyter-widgets/base",
            "_model_module_version": "1.5.0",
            "_view_count": null,
            "_view_module_version": "1.2.0",
            "bar_color": null,
            "_model_module": "@jupyter-widgets/controls"
          }
        },
        "48ed684db1d54278a65245244691cf36": {
          "model_module": "@jupyter-widgets/base",
          "model_name": "LayoutModel",
          "state": {
            "_view_name": "LayoutView",
            "grid_template_rows": null,
            "right": null,
            "justify_content": null,
            "_view_module": "@jupyter-widgets/base",
            "overflow": null,
            "_model_module_version": "1.2.0",
            "_view_count": null,
            "flex_flow": null,
            "width": null,
            "min_width": null,
            "border": null,
            "align_items": null,
            "bottom": null,
            "_model_module": "@jupyter-widgets/base",
            "top": null,
            "grid_column": null,
            "overflow_y": null,
            "overflow_x": null,
            "grid_auto_flow": null,
            "grid_area": null,
            "grid_template_columns": null,
            "flex": null,
            "_model_name": "LayoutModel",
            "justify_items": null,
            "grid_row": null,
            "max_height": null,
            "align_content": null,
            "visibility": null,
            "align_self": null,
            "height": null,
            "min_height": null,
            "padding": null,
            "grid_auto_rows": null,
            "grid_gap": null,
            "max_width": null,
            "order": null,
            "_view_module_version": "1.2.0",
            "grid_template_areas": null,
            "object_position": null,
            "object_fit": null,
            "grid_auto_columns": null,
            "margin": null,
            "display": null,
            "left": null
          }
        },
        "134db87997d748b5880b5fa6daf09e8e": {
          "model_module": "@jupyter-widgets/controls",
          "model_name": "DescriptionStyleModel",
          "state": {
            "_view_name": "StyleView",
            "_model_name": "DescriptionStyleModel",
            "description_width": "",
            "_view_module": "@jupyter-widgets/base",
            "_model_module_version": "1.5.0",
            "_view_count": null,
            "_view_module_version": "1.2.0",
            "_model_module": "@jupyter-widgets/controls"
          }
        },
        "8bb6b3466c4e42f88da728b6538b5571": {
          "model_module": "@jupyter-widgets/base",
          "model_name": "LayoutModel",
          "state": {
            "_view_name": "LayoutView",
            "grid_template_rows": null,
            "right": null,
            "justify_content": null,
            "_view_module": "@jupyter-widgets/base",
            "overflow": null,
            "_model_module_version": "1.2.0",
            "_view_count": null,
            "flex_flow": null,
            "width": null,
            "min_width": null,
            "border": null,
            "align_items": null,
            "bottom": null,
            "_model_module": "@jupyter-widgets/base",
            "top": null,
            "grid_column": null,
            "overflow_y": null,
            "overflow_x": null,
            "grid_auto_flow": null,
            "grid_area": null,
            "grid_template_columns": null,
            "flex": null,
            "_model_name": "LayoutModel",
            "justify_items": null,
            "grid_row": null,
            "max_height": null,
            "align_content": null,
            "visibility": null,
            "align_self": null,
            "height": null,
            "min_height": null,
            "padding": null,
            "grid_auto_rows": null,
            "grid_gap": null,
            "max_width": null,
            "order": null,
            "_view_module_version": "1.2.0",
            "grid_template_areas": null,
            "object_position": null,
            "object_fit": null,
            "grid_auto_columns": null,
            "margin": null,
            "display": null,
            "left": null
          }
        }
      }
    }
  },
  "cells": [
    {
      "cell_type": "markdown",
      "metadata": {
        "id": "view-in-github",
        "colab_type": "text"
      },
      "source": [
        "<a href=\"https://colab.research.google.com/github/Varun9213/SIIM-FISABIO-RSNA-COVID-19-Detection/blob/main/Effdet%5BTrain%5D%5BCovid%5D.ipynb\" target=\"_parent\"><img src=\"https://colab.research.google.com/assets/colab-badge.svg\" alt=\"Open In Colab\"/></a>"
      ]
    },
    {
      "cell_type": "code",
      "metadata": {
        "id": "KM-AoHOXMeQg",
        "colab": {
          "base_uri": "https://localhost:8080/"
        },
        "outputId": "adb4c4f5-af8d-4915-b94b-0cc2a7cd1a25"
      },
      "source": [
        "!pip install --upgrade pip"
      ],
      "execution_count": 1,
      "outputs": [
        {
          "output_type": "stream",
          "text": [
            "Collecting pip\n",
            "\u001b[?25l  Downloading https://files.pythonhosted.org/packages/47/ca/f0d790b6e18b3a6f3bd5e80c2ee4edbb5807286c21cdd0862ca933f751dd/pip-21.1.3-py3-none-any.whl (1.5MB)\n",
            "\r\u001b[K     |▏                               | 10kB 18.5MB/s eta 0:00:01\r\u001b[K     |▍                               | 20kB 26.8MB/s eta 0:00:01\r\u001b[K     |▋                               | 30kB 22.1MB/s eta 0:00:01\r\u001b[K     |▉                               | 40kB 18.2MB/s eta 0:00:01\r\u001b[K     |█                               | 51kB 15.5MB/s eta 0:00:01\r\u001b[K     |█▎                              | 61kB 11.4MB/s eta 0:00:01\r\u001b[K     |█▌                              | 71kB 12.7MB/s eta 0:00:01\r\u001b[K     |█▊                              | 81kB 13.8MB/s eta 0:00:01\r\u001b[K     |██                              | 92kB 12.7MB/s eta 0:00:01\r\u001b[K     |██▏                             | 102kB 13.8MB/s eta 0:00:01\r\u001b[K     |██▎                             | 112kB 13.8MB/s eta 0:00:01\r\u001b[K     |██▌                             | 122kB 13.8MB/s eta 0:00:01\r\u001b[K     |██▊                             | 133kB 13.8MB/s eta 0:00:01\r\u001b[K     |███                             | 143kB 13.8MB/s eta 0:00:01\r\u001b[K     |███▏                            | 153kB 13.8MB/s eta 0:00:01\r\u001b[K     |███▍                            | 163kB 13.8MB/s eta 0:00:01\r\u001b[K     |███▋                            | 174kB 13.8MB/s eta 0:00:01\r\u001b[K     |███▉                            | 184kB 13.8MB/s eta 0:00:01\r\u001b[K     |████                            | 194kB 13.8MB/s eta 0:00:01\r\u001b[K     |████▎                           | 204kB 13.8MB/s eta 0:00:01\r\u001b[K     |████▌                           | 215kB 13.8MB/s eta 0:00:01\r\u001b[K     |████▋                           | 225kB 13.8MB/s eta 0:00:01\r\u001b[K     |████▉                           | 235kB 13.8MB/s eta 0:00:01\r\u001b[K     |█████                           | 245kB 13.8MB/s eta 0:00:01\r\u001b[K     |█████▎                          | 256kB 13.8MB/s eta 0:00:01\r\u001b[K     |█████▌                          | 266kB 13.8MB/s eta 0:00:01\r\u001b[K     |█████▊                          | 276kB 13.8MB/s eta 0:00:01\r\u001b[K     |██████                          | 286kB 13.8MB/s eta 0:00:01\r\u001b[K     |██████▏                         | 296kB 13.8MB/s eta 0:00:01\r\u001b[K     |██████▍                         | 307kB 13.8MB/s eta 0:00:01\r\u001b[K     |██████▋                         | 317kB 13.8MB/s eta 0:00:01\r\u001b[K     |██████▊                         | 327kB 13.8MB/s eta 0:00:01\r\u001b[K     |███████                         | 337kB 13.8MB/s eta 0:00:01\r\u001b[K     |███████▏                        | 348kB 13.8MB/s eta 0:00:01\r\u001b[K     |███████▍                        | 358kB 13.8MB/s eta 0:00:01\r\u001b[K     |███████▋                        | 368kB 13.8MB/s eta 0:00:01\r\u001b[K     |███████▉                        | 378kB 13.8MB/s eta 0:00:01\r\u001b[K     |████████                        | 389kB 13.8MB/s eta 0:00:01\r\u001b[K     |████████▎                       | 399kB 13.8MB/s eta 0:00:01\r\u001b[K     |████████▌                       | 409kB 13.8MB/s eta 0:00:01\r\u001b[K     |████████▊                       | 419kB 13.8MB/s eta 0:00:01\r\u001b[K     |█████████                       | 430kB 13.8MB/s eta 0:00:01\r\u001b[K     |█████████                       | 440kB 13.8MB/s eta 0:00:01\r\u001b[K     |█████████▎                      | 450kB 13.8MB/s eta 0:00:01\r\u001b[K     |█████████▌                      | 460kB 13.8MB/s eta 0:00:01\r\u001b[K     |█████████▊                      | 471kB 13.8MB/s eta 0:00:01\r\u001b[K     |██████████                      | 481kB 13.8MB/s eta 0:00:01\r\u001b[K     |██████████▏                     | 491kB 13.8MB/s eta 0:00:01\r\u001b[K     |██████████▍                     | 501kB 13.8MB/s eta 0:00:01\r\u001b[K     |██████████▋                     | 512kB 13.8MB/s eta 0:00:01\r\u001b[K     |██████████▉                     | 522kB 13.8MB/s eta 0:00:01\r\u001b[K     |███████████                     | 532kB 13.8MB/s eta 0:00:01\r\u001b[K     |███████████▏                    | 542kB 13.8MB/s eta 0:00:01\r\u001b[K     |███████████▍                    | 552kB 13.8MB/s eta 0:00:01\r\u001b[K     |███████████▋                    | 563kB 13.8MB/s eta 0:00:01\r\u001b[K     |███████████▉                    | 573kB 13.8MB/s eta 0:00:01\r\u001b[K     |████████████                    | 583kB 13.8MB/s eta 0:00:01\r\u001b[K     |████████████▎                   | 593kB 13.8MB/s eta 0:00:01\r\u001b[K     |████████████▌                   | 604kB 13.8MB/s eta 0:00:01\r\u001b[K     |████████████▊                   | 614kB 13.8MB/s eta 0:00:01\r\u001b[K     |█████████████                   | 624kB 13.8MB/s eta 0:00:01\r\u001b[K     |█████████████▏                  | 634kB 13.8MB/s eta 0:00:01\r\u001b[K     |█████████████▍                  | 645kB 13.8MB/s eta 0:00:01\r\u001b[K     |█████████████▌                  | 655kB 13.8MB/s eta 0:00:01\r\u001b[K     |█████████████▊                  | 665kB 13.8MB/s eta 0:00:01\r\u001b[K     |██████████████                  | 675kB 13.8MB/s eta 0:00:01\r\u001b[K     |██████████████▏                 | 686kB 13.8MB/s eta 0:00:01\r\u001b[K     |██████████████▍                 | 696kB 13.8MB/s eta 0:00:01\r\u001b[K     |██████████████▋                 | 706kB 13.8MB/s eta 0:00:01\r\u001b[K     |██████████████▉                 | 716kB 13.8MB/s eta 0:00:01\r\u001b[K     |███████████████                 | 727kB 13.8MB/s eta 0:00:01\r\u001b[K     |███████████████▎                | 737kB 13.8MB/s eta 0:00:01\r\u001b[K     |███████████████▌                | 747kB 13.8MB/s eta 0:00:01\r\u001b[K     |███████████████▋                | 757kB 13.8MB/s eta 0:00:01\r\u001b[K     |███████████████▉                | 768kB 13.8MB/s eta 0:00:01\r\u001b[K     |████████████████                | 778kB 13.8MB/s eta 0:00:01\r\u001b[K     |████████████████▎               | 788kB 13.8MB/s eta 0:00:01\r\u001b[K     |████████████████▌               | 798kB 13.8MB/s eta 0:00:01\r\u001b[K     |████████████████▊               | 808kB 13.8MB/s eta 0:00:01\r\u001b[K     |█████████████████               | 819kB 13.8MB/s eta 0:00:01\r\u001b[K     |█████████████████▏              | 829kB 13.8MB/s eta 0:00:01\r\u001b[K     |█████████████████▍              | 839kB 13.8MB/s eta 0:00:01\r\u001b[K     |█████████████████▋              | 849kB 13.8MB/s eta 0:00:01\r\u001b[K     |█████████████████▉              | 860kB 13.8MB/s eta 0:00:01\r\u001b[K     |██████████████████              | 870kB 13.8MB/s eta 0:00:01\r\u001b[K     |██████████████████▏             | 880kB 13.8MB/s eta 0:00:01\r\u001b[K     |██████████████████▍             | 890kB 13.8MB/s eta 0:00:01\r\u001b[K     |██████████████████▋             | 901kB 13.8MB/s eta 0:00:01\r\u001b[K     |██████████████████▉             | 911kB 13.8MB/s eta 0:00:01\r\u001b[K     |███████████████████             | 921kB 13.8MB/s eta 0:00:01\r\u001b[K     |███████████████████▎            | 931kB 13.8MB/s eta 0:00:01\r\u001b[K     |███████████████████▌            | 942kB 13.8MB/s eta 0:00:01\r\u001b[K     |███████████████████▊            | 952kB 13.8MB/s eta 0:00:01\r\u001b[K     |████████████████████            | 962kB 13.8MB/s eta 0:00:01\r\u001b[K     |████████████████████            | 972kB 13.8MB/s eta 0:00:01\r\u001b[K     |████████████████████▎           | 983kB 13.8MB/s eta 0:00:01\r\u001b[K     |████████████████████▌           | 993kB 13.8MB/s eta 0:00:01\r\u001b[K     |████████████████████▊           | 1.0MB 13.8MB/s eta 0:00:01\r\u001b[K     |█████████████████████           | 1.0MB 13.8MB/s eta 0:00:01\r\u001b[K     |█████████████████████▏          | 1.0MB 13.8MB/s eta 0:00:01\r\u001b[K     |█████████████████████▍          | 1.0MB 13.8MB/s eta 0:00:01\r\u001b[K     |█████████████████████▋          | 1.0MB 13.8MB/s eta 0:00:01\r\u001b[K     |█████████████████████▉          | 1.1MB 13.8MB/s eta 0:00:01\r\u001b[K     |██████████████████████          | 1.1MB 13.8MB/s eta 0:00:01\r\u001b[K     |██████████████████████▎         | 1.1MB 13.8MB/s eta 0:00:01\r\u001b[K     |██████████████████████▍         | 1.1MB 13.8MB/s eta 0:00:01\r\u001b[K     |██████████████████████▋         | 1.1MB 13.8MB/s eta 0:00:01\r\u001b[K     |██████████████████████▉         | 1.1MB 13.8MB/s eta 0:00:01\r\u001b[K     |███████████████████████         | 1.1MB 13.8MB/s eta 0:00:01\r\u001b[K     |███████████████████████▎        | 1.1MB 13.8MB/s eta 0:00:01\r\u001b[K     |███████████████████████▌        | 1.1MB 13.8MB/s eta 0:00:01\r\u001b[K     |███████████████████████▊        | 1.1MB 13.8MB/s eta 0:00:01\r\u001b[K     |████████████████████████        | 1.2MB 13.8MB/s eta 0:00:01\r\u001b[K     |████████████████████████▏       | 1.2MB 13.8MB/s eta 0:00:01\r\u001b[K     |████████████████████████▍       | 1.2MB 13.8MB/s eta 0:00:01\r\u001b[K     |████████████████████████▌       | 1.2MB 13.8MB/s eta 0:00:01\r\u001b[K     |████████████████████████▊       | 1.2MB 13.8MB/s eta 0:00:01\r\u001b[K     |█████████████████████████       | 1.2MB 13.8MB/s eta 0:00:01\r\u001b[K     |█████████████████████████▏      | 1.2MB 13.8MB/s eta 0:00:01\r\u001b[K     |█████████████████████████▍      | 1.2MB 13.8MB/s eta 0:00:01\r\u001b[K     |█████████████████████████▋      | 1.2MB 13.8MB/s eta 0:00:01\r\u001b[K     |█████████████████████████▉      | 1.2MB 13.8MB/s eta 0:00:01\r\u001b[K     |██████████████████████████      | 1.3MB 13.8MB/s eta 0:00:01\r\u001b[K     |██████████████████████████▎     | 1.3MB 13.8MB/s eta 0:00:01\r\u001b[K     |██████████████████████████▌     | 1.3MB 13.8MB/s eta 0:00:01\r\u001b[K     |██████████████████████████▊     | 1.3MB 13.8MB/s eta 0:00:01\r\u001b[K     |██████████████████████████▉     | 1.3MB 13.8MB/s eta 0:00:01\r\u001b[K     |███████████████████████████     | 1.3MB 13.8MB/s eta 0:00:01\r\u001b[K     |███████████████████████████▎    | 1.3MB 13.8MB/s eta 0:00:01\r\u001b[K     |███████████████████████████▌    | 1.3MB 13.8MB/s eta 0:00:01\r\u001b[K     |███████████████████████████▊    | 1.3MB 13.8MB/s eta 0:00:01\r\u001b[K     |████████████████████████████    | 1.4MB 13.8MB/s eta 0:00:01\r\u001b[K     |████████████████████████████▏   | 1.4MB 13.8MB/s eta 0:00:01\r\u001b[K     |████████████████████████████▍   | 1.4MB 13.8MB/s eta 0:00:01\r\u001b[K     |████████████████████████████▋   | 1.4MB 13.8MB/s eta 0:00:01\r\u001b[K     |████████████████████████████▉   | 1.4MB 13.8MB/s eta 0:00:01\r\u001b[K     |█████████████████████████████   | 1.4MB 13.8MB/s eta 0:00:01\r\u001b[K     |█████████████████████████████▏  | 1.4MB 13.8MB/s eta 0:00:01\r\u001b[K     |█████████████████████████████▍  | 1.4MB 13.8MB/s eta 0:00:01\r\u001b[K     |█████████████████████████████▋  | 1.4MB 13.8MB/s eta 0:00:01\r\u001b[K     |█████████████████████████████▉  | 1.4MB 13.8MB/s eta 0:00:01\r\u001b[K     |██████████████████████████████  | 1.5MB 13.8MB/s eta 0:00:01\r\u001b[K     |██████████████████████████████▎ | 1.5MB 13.8MB/s eta 0:00:01\r\u001b[K     |██████████████████████████████▌ | 1.5MB 13.8MB/s eta 0:00:01\r\u001b[K     |██████████████████████████████▊ | 1.5MB 13.8MB/s eta 0:00:01\r\u001b[K     |███████████████████████████████ | 1.5MB 13.8MB/s eta 0:00:01\r\u001b[K     |███████████████████████████████▏| 1.5MB 13.8MB/s eta 0:00:01\r\u001b[K     |███████████████████████████████▎| 1.5MB 13.8MB/s eta 0:00:01\r\u001b[K     |███████████████████████████████▌| 1.5MB 13.8MB/s eta 0:00:01\r\u001b[K     |███████████████████████████████▊| 1.5MB 13.8MB/s eta 0:00:01\r\u001b[K     |████████████████████████████████| 1.5MB 13.8MB/s eta 0:00:01\r\u001b[K     |████████████████████████████████| 1.6MB 13.8MB/s \n",
            "\u001b[?25hInstalling collected packages: pip\n",
            "  Found existing installation: pip 19.3.1\n",
            "    Uninstalling pip-19.3.1:\n",
            "      Successfully uninstalled pip-19.3.1\n",
            "Successfully installed pip-21.1.3\n"
          ],
          "name": "stdout"
        }
      ]
    },
    {
      "cell_type": "code",
      "metadata": {
        "id": "9nsKZ-Zqw7gX",
        "colab": {
          "base_uri": "https://localhost:8080/"
        },
        "outputId": "af164f43-b1a5-406d-a157-9eaf5dfdcfab"
      },
      "source": [
        "!pip install -q kaggle\n",
        "!pip install albumentations==0.5.2 --no-cache-dir -q"
      ],
      "execution_count": 2,
      "outputs": [
        {
          "output_type": "stream",
          "text": [
            "\u001b[33mWARNING: Running pip as the 'root' user can result in broken permissions and conflicting behaviour with the system package manager. It is recommended to use a virtual environment instead: https://pip.pypa.io/warnings/venv\u001b[0m\n",
            "\u001b[K     |████████████████████████████████| 72 kB 11.5 MB/s \n",
            "\u001b[K     |████████████████████████████████| 37.1 MB 1.3 MB/s \n",
            "\u001b[K     |████████████████████████████████| 948 kB 47.7 MB/s \n",
            "\u001b[33mWARNING: Running pip as the 'root' user can result in broken permissions and conflicting behaviour with the system package manager. It is recommended to use a virtual environment instead: https://pip.pypa.io/warnings/venv\u001b[0m\n",
            "\u001b[?25h"
          ],
          "name": "stdout"
        }
      ]
    },
    {
      "cell_type": "code",
      "metadata": {
        "colab": {
          "base_uri": "https://localhost:8080/"
        },
        "id": "TQVjE8OhxDl5",
        "outputId": "54c055c8-b640-4adf-f9d0-c3695f1dc707"
      },
      "source": [
        "from google.colab import drive\n",
        "drive.mount('/content/gdrive', force_remount=True)"
      ],
      "execution_count": 3,
      "outputs": [
        {
          "output_type": "stream",
          "text": [
            "Mounted at /content/gdrive\n"
          ],
          "name": "stdout"
        }
      ]
    },
    {
      "cell_type": "code",
      "metadata": {
        "id": "CF-e1jHAxY-R"
      },
      "source": [
        "!mkdir ~/.kaggle\n",
        "!cp /content/gdrive/MyDrive/kaggle/kaggle.json ~/.kaggle/\n",
        "!chmod 600 ~/.kaggle/kaggle.json"
      ],
      "execution_count": 4,
      "outputs": []
    },
    {
      "cell_type": "code",
      "metadata": {
        "colab": {
          "base_uri": "https://localhost:8080/"
        },
        "id": "YsRzzCufxl40",
        "outputId": "17241f5f-70b3-47c9-b24a-84368885995c"
      },
      "source": [
        "!kaggle datasets download -d sohomdey/siim-covid19-detection-512"
      ],
      "execution_count": 5,
      "outputs": [
        {
          "output_type": "stream",
          "text": [
            "Downloading siim-covid19-detection-512.zip to /content\n",
            " 98% 801M/817M [00:15<00:00, 50.9MB/s]\n",
            "100% 817M/817M [00:15<00:00, 56.7MB/s]\n"
          ],
          "name": "stdout"
        }
      ]
    },
    {
      "cell_type": "code",
      "metadata": {
        "id": "Nv1MKl_KzDSm"
      },
      "source": [
        "!mkdir train\n",
        "!unzip -q /content/siim-covid19-detection-512.zip -d train"
      ],
      "execution_count": 6,
      "outputs": []
    },
    {
      "cell_type": "code",
      "metadata": {
        "id": "x9LLf13h2cK_"
      },
      "source": [
        "# !kaggle datasets download -d awsaf49/siimcovid19-512-jpg-image-dataset\n",
        "# !mkdir train_512\n",
        "# !unzip -q /content/siimcovid19-512-jpg-image-dataset.zip -d train_512"
      ],
      "execution_count": 7,
      "outputs": []
    },
    {
      "cell_type": "code",
      "metadata": {
        "colab": {
          "base_uri": "https://localhost:8080/"
        },
        "id": "W2LsYsBLz_ay",
        "outputId": "7309eb63-df47-4407-fd9d-deaf645c5a42"
      },
      "source": [
        "!kaggle datasets download -d kozodoi/timm-pytorch-image-models\n",
        "!mkdir timm\n",
        "!unzip -q /content/timm-pytorch-image-models.zip -d timm "
      ],
      "execution_count": 8,
      "outputs": [
        {
          "output_type": "stream",
          "text": [
            "Downloading timm-pytorch-image-models.zip to /content\n",
            " 63% 9.00M/14.2M [00:00<00:00, 13.8MB/s]\n",
            "100% 14.2M/14.2M [00:00<00:00, 19.4MB/s]\n"
          ],
          "name": "stdout"
        }
      ]
    },
    {
      "cell_type": "code",
      "metadata": {
        "colab": {
          "base_uri": "https://localhost:8080/"
        },
        "id": "9B08MBpoFcI_",
        "outputId": "2754b765-ffd2-4b4a-8929-c502485376b8"
      },
      "source": [
        "!kaggle datasets download -d shonenkov/omegaconf\n",
        "!kaggle datasets download -d varundutt9213/efficientdetpytorch\n",
        "!kaggle datasets download -d kaushal2896/pycocotools"
      ],
      "execution_count": 9,
      "outputs": [
        {
          "output_type": "stream",
          "text": [
            "Downloading omegaconf.zip to /content\n",
            "\r  0% 0.00/129k [00:00<?, ?B/s]\n",
            "100% 129k/129k [00:00<00:00, 39.8MB/s]\n",
            "Downloading efficientdetpytorch.zip to /content\n",
            "  0% 0.00/133k [00:00<?, ?B/s]\n",
            "100% 133k/133k [00:00<00:00, 49.0MB/s]\n",
            "Downloading pycocotools.zip to /content\n",
            "  0% 0.00/272k [00:00<?, ?B/s]\n",
            "100% 272k/272k [00:00<00:00, 39.5MB/s]\n"
          ],
          "name": "stdout"
        }
      ]
    },
    {
      "cell_type": "code",
      "metadata": {
        "id": "mg-ytHzlFdvy"
      },
      "source": [
        "!mkdir omegaconf\n",
        "!mkdir efficientdetpytorch\n",
        "!mkdir pycocotools\n",
        "!unzip -q /content/omegaconf.zip -d omegaconf\n",
        "!unzip -q /content/efficientdetpytorch.zip -d efficientdetpytorch\n",
        "!unzip -q /content/pycocotools.zip -d pycocotools"
      ],
      "execution_count": 10,
      "outputs": []
    },
    {
      "cell_type": "code",
      "metadata": {
        "id": "Q09-MdVJykxx"
      },
      "source": [
        "import os\n",
        "\n",
        "import numpy as np\n",
        "import pandas as pd\n",
        "from matplotlib import pyplot as plt\n",
        "from pylab import rcParams\n",
        "import seaborn as sns\n",
        "import torch"
      ],
      "execution_count": 1,
      "outputs": []
    },
    {
      "cell_type": "code",
      "metadata": {
        "id": "yC6yrwFoz1Tf"
      },
      "source": [
        "raw = pd.read_csv('/content/train/train.csv')\n",
        "raw['n_boxes'] = raw.label.apply(lambda x: (len(x.split(\" \"))//6)-1)\n",
        "raw = raw[raw['n_boxes']>0].reset_index()\n",
        "\n",
        "class CFG:\n",
        "    \n",
        "    apex=False\n",
        "    debug=False\n",
        "    train=True\n",
        "    cutmix = False\n",
        "    target_size=1\n",
        "    batch_size=6\n",
        "    n_fold=2\n",
        "    \n",
        "    model_name='tf_efficientdet_d3'\n",
        "    \n",
        "    checkpoint=None\n",
        "\n",
        "    output_dir=f'/content/gdrive/MyDrive/kaggle/EffDet_{model_name}_Fold_{n_fold}'\n",
        "    \n",
        "    #checkpoint=\"/content/gdrive/MyDrive/kaggle/EffDet_tf_efficientdet_d3_Fold_0/last-checkpoint.bin\"\n",
        "    \n",
        "    size=512\n",
        "    dim=640\n",
        "    \n",
        "    n_epochs=30\n",
        "    \n",
        "    lr=3e-4\n",
        "    \n",
        "    SchedulerClass = torch.optim.lr_scheduler.CosineAnnealingLR\n",
        "    scheduler_params = dict( \n",
        "        T_max=int(1.5*n_epochs),\n",
        "        eta_min=4e-5,\n",
        "        last_epoch=-1\n",
        "    )\n",
        "    \n",
        "    step_scheduler = True  # do scheduler.step after optimizer.step\n",
        "    validation_scheduler = False\n",
        "    \n",
        "    verbose = True\n",
        "    verbose_step = 1\n",
        "    \n",
        "    weight_decay=0\n",
        "    gradient_accumulation_steps=1\n",
        "    max_grad_norm=1000\n",
        "    seed=42\n",
        "    num_workers=4\n",
        "    freeze=False\n",
        "    \n",
        "if CFG.debug:\n",
        "    \n",
        "    CFG.epochs = 1\n",
        "    raw = raw.sample(n=100, random_state=CFG.seed).reset_index(drop=True)"
      ],
      "execution_count": 2,
      "outputs": []
    },
    {
      "cell_type": "code",
      "metadata": {
        "colab": {
          "base_uri": "https://localhost:8080/"
        },
        "id": "nRGxKVkxz481",
        "outputId": "72241faf-8095-4e3e-ebfe-5722f504a80b"
      },
      "source": [
        "# ====================================================\n",
        "# Library\n",
        "# ====================================================\n",
        "import sys\n",
        "sys.path.append('/content/timm/pytorch-image-models-master')\n",
        "\n",
        "import os\n",
        "import math\n",
        "import time\n",
        "from datetime import datetime\n",
        "import random\n",
        "import shutil\n",
        "from pathlib import Path\n",
        "from contextlib import contextmanager\n",
        "from collections import defaultdict, Counter\n",
        "\n",
        "import scipy as sp\n",
        "import numpy as np\n",
        "import pandas as pd\n",
        "\n",
        "from sklearn import preprocessing\n",
        "from sklearn.metrics import roc_auc_score, average_precision_score\n",
        "from sklearn.model_selection import StratifiedKFold, GroupKFold, KFold\n",
        "\n",
        "from tqdm.auto import tqdm\n",
        "from functools import partial\n",
        "from glob import glob\n",
        "\n",
        "import cv2\n",
        "from PIL import Image\n",
        "\n",
        "import torch.nn as nn\n",
        "import torch.nn.functional as F\n",
        "from torch.optim import Adam, SGD, AdamW\n",
        "import torchvision.models as models\n",
        "from torch.nn.parameter import Parameter\n",
        "from torch.utils.data import DataLoader, Dataset\n",
        "from torch.utils.data.sampler import SequentialSampler, RandomSampler\n",
        "from torch.optim.lr_scheduler import CosineAnnealingWarmRestarts, CosineAnnealingLR, ReduceLROnPlateau, LambdaLR\n",
        "#from warmup_scheduler import GradualWarmupScheduler\n",
        "\n",
        "import albumentations as A\n",
        "from albumentations.pytorch import ToTensorV2\n",
        "from albumentations import ImageOnlyTransform\n",
        "\n",
        "import timm\n",
        "\n",
        "from torch.cuda.amp import autocast, GradScaler\n",
        "\n",
        "import warnings \n",
        "warnings.filterwarnings('ignore')\n",
        "\n",
        "device = torch.device('cuda' if torch.cuda.is_available() else 'cpu')\n",
        "\n",
        "print('Python        : ' + sys.version.split('\\n')[0])\n",
        "print('Numpy         : ' + np.__version__)\n",
        "print('Pandas        : ' + pd.__version__)\n",
        "print('PyTorch       : ' + torch.__version__)\n",
        "print('Albumentations: ' + A.__version__)\n",
        "print('Timm          : ' + timm.__version__)"
      ],
      "execution_count": 3,
      "outputs": [
        {
          "output_type": "stream",
          "text": [
            "Python        : 3.7.10 (default, May  3 2021, 02:48:31) \n",
            "Numpy         : 1.19.5\n",
            "Pandas        : 1.1.5\n",
            "PyTorch       : 1.9.0+cu102\n",
            "Albumentations: 0.5.2\n",
            "Timm          : 0.4.13\n"
          ],
          "name": "stdout"
        }
      ]
    },
    {
      "cell_type": "code",
      "metadata": {
        "id": "dCZSEFjm0JpY"
      },
      "source": [
        "def seed_everything(seed):\n",
        "    random.seed(seed)\n",
        "    os.environ['PYTHONHASHSEED'] = str(seed)\n",
        "    np.random.seed(seed)\n",
        "    torch.manual_seed(seed)\n",
        "    torch.cuda.manual_seed(seed)\n",
        "    torch.backends.cudnn.deterministic = True\n",
        "    torch.backends.cudnn.benchmark = True\n",
        "\n",
        "seed_everything(CFG.seed)"
      ],
      "execution_count": 4,
      "outputs": []
    },
    {
      "cell_type": "code",
      "metadata": {
        "id": "kx9QqySY02XD"
      },
      "source": [
        "gkf  = GroupKFold(n_splits = 5)\n",
        "raw['fold'] = -1\n",
        "for fold, (train_idx, val_idx) in enumerate(gkf.split(raw, groups = raw.id_image.tolist())):\n",
        "    raw.loc[val_idx, 'fold'] = fold"
      ],
      "execution_count": 5,
      "outputs": []
    },
    {
      "cell_type": "code",
      "metadata": {
        "colab": {
          "base_uri": "https://localhost:8080/",
          "height": 66,
          "referenced_widgets": [
            "4a1b40e9bc4d4ecd89a3919a915d3f31",
            "a92a7009c9d8448e9ceaaadafdc02873",
            "72be929ea5304211ae1077c797fbbe2b",
            "d9cb31fda0134121b2bfaf04b2ad42ed",
            "18d74a9b404d475180bc3406ccb97777",
            "48ed684db1d54278a65245244691cf36",
            "134db87997d748b5880b5fa6daf09e8e",
            "8bb6b3466c4e42f88da728b6538b5571"
          ]
        },
        "id": "BVmYbhM9037_",
        "outputId": "94474365-9460-428b-efd3-e05820efd77c"
      },
      "source": [
        "marking=pd.DataFrame(columns=['image_id', 'width', 'height', 'x_min', 'y_min', 'x_max', 'y_max','fold'])\n",
        "for _,row in tqdm(raw.iterrows()):\n",
        "    bxs=np.array(row.label.split(\" \")).reshape(-1,6)\n",
        "    for bb in bxs:\n",
        "        marking=marking.append({'image_id': row.id_image,\n",
        "                                'width':row.width,\n",
        "                                'height':row.height,\n",
        "                                'x_min':np.clip((float(bb[2])/row.width), 0,1)*CFG.size,\n",
        "                                'y_min':np.clip((float(bb[3])/row.height), 0,1)*CFG.size,\n",
        "                                'x_max':np.clip((float(bb[4])/row.width), 0,1)*CFG.size,\n",
        "                                'y_max':np.clip((float(bb[5])/row.height), 0,1)*CFG.size,\n",
        "                                'fold':row.fold}, ignore_index=True)"
      ],
      "execution_count": 6,
      "outputs": [
        {
          "output_type": "display_data",
          "data": {
            "application/vnd.jupyter.widget-view+json": {
              "model_id": "4a1b40e9bc4d4ecd89a3919a915d3f31",
              "version_minor": 0,
              "version_major": 2
            },
            "text/plain": [
              "HBox(children=(FloatProgress(value=1.0, bar_style='info', max=1.0), HTML(value='')))"
            ]
          },
          "metadata": {
            "tags": []
          }
        },
        {
          "output_type": "stream",
          "text": [
            "\n"
          ],
          "name": "stdout"
        }
      ]
    },
    {
      "cell_type": "code",
      "metadata": {
        "colab": {
          "base_uri": "https://localhost:8080/",
          "height": 304
        },
        "id": "0XeGnROB0_46",
        "outputId": "16fecb09-1c0e-43ff-effc-7967cee1b285"
      },
      "source": [
        "raw.head()"
      ],
      "execution_count": 7,
      "outputs": [
        {
          "output_type": "execute_result",
          "data": {
            "text/html": [
              "<div>\n",
              "<style scoped>\n",
              "    .dataframe tbody tr th:only-of-type {\n",
              "        vertical-align: middle;\n",
              "    }\n",
              "\n",
              "    .dataframe tbody tr th {\n",
              "        vertical-align: top;\n",
              "    }\n",
              "\n",
              "    .dataframe thead th {\n",
              "        text-align: right;\n",
              "    }\n",
              "</style>\n",
              "<table border=\"1\" class=\"dataframe\">\n",
              "  <thead>\n",
              "    <tr style=\"text-align: right;\">\n",
              "      <th></th>\n",
              "      <th>index</th>\n",
              "      <th>id_image</th>\n",
              "      <th>id_study</th>\n",
              "      <th>label</th>\n",
              "      <th>Negative for Pneumonia</th>\n",
              "      <th>Typical Appearance</th>\n",
              "      <th>Indeterminate Appearance</th>\n",
              "      <th>Atypical Appearance</th>\n",
              "      <th>width</th>\n",
              "      <th>height</th>\n",
              "      <th>n_boxes</th>\n",
              "      <th>fold</th>\n",
              "    </tr>\n",
              "  </thead>\n",
              "  <tbody>\n",
              "    <tr>\n",
              "      <th>0</th>\n",
              "      <td>0</td>\n",
              "      <td>000a312787f2</td>\n",
              "      <td>5776db0cec75</td>\n",
              "      <td>opacity 1 789.28836 582.43035 1815.94498 2499....</td>\n",
              "      <td>0</td>\n",
              "      <td>1</td>\n",
              "      <td>0</td>\n",
              "      <td>0</td>\n",
              "      <td>4256</td>\n",
              "      <td>3488</td>\n",
              "      <td>1</td>\n",
              "      <td>0</td>\n",
              "    </tr>\n",
              "    <tr>\n",
              "      <th>1</th>\n",
              "      <td>2</td>\n",
              "      <td>0012ff7358bc</td>\n",
              "      <td>9d514ce429a7</td>\n",
              "      <td>opacity 1 677.42216 197.97662 1545.21983 1197....</td>\n",
              "      <td>0</td>\n",
              "      <td>1</td>\n",
              "      <td>0</td>\n",
              "      <td>0</td>\n",
              "      <td>3056</td>\n",
              "      <td>2544</td>\n",
              "      <td>1</td>\n",
              "      <td>4</td>\n",
              "    </tr>\n",
              "    <tr>\n",
              "      <th>2</th>\n",
              "      <td>4</td>\n",
              "      <td>001bd15d1891</td>\n",
              "      <td>dfd9fdd85a3e</td>\n",
              "      <td>opacity 1 623.23328 1050 1337.23328 2156 opaci...</td>\n",
              "      <td>0</td>\n",
              "      <td>1</td>\n",
              "      <td>0</td>\n",
              "      <td>0</td>\n",
              "      <td>3408</td>\n",
              "      <td>2800</td>\n",
              "      <td>1</td>\n",
              "      <td>3</td>\n",
              "    </tr>\n",
              "    <tr>\n",
              "      <th>3</th>\n",
              "      <td>7</td>\n",
              "      <td>002e9b2128d0</td>\n",
              "      <td>0717c8ac304f</td>\n",
              "      <td>opacity 1 276.72917 627.42968 1187.31776 2283....</td>\n",
              "      <td>0</td>\n",
              "      <td>1</td>\n",
              "      <td>0</td>\n",
              "      <td>0</td>\n",
              "      <td>2872</td>\n",
              "      <td>2416</td>\n",
              "      <td>1</td>\n",
              "      <td>2</td>\n",
              "    </tr>\n",
              "    <tr>\n",
              "      <th>4</th>\n",
              "      <td>8</td>\n",
              "      <td>00326161e51e</td>\n",
              "      <td>a81050391441</td>\n",
              "      <td>opacity 1 542.96057 364.37257 1133.32317999999...</td>\n",
              "      <td>0</td>\n",
              "      <td>1</td>\n",
              "      <td>0</td>\n",
              "      <td>0</td>\n",
              "      <td>2836</td>\n",
              "      <td>2336</td>\n",
              "      <td>1</td>\n",
              "      <td>1</td>\n",
              "    </tr>\n",
              "  </tbody>\n",
              "</table>\n",
              "</div>"
            ],
            "text/plain": [
              "   index      id_image      id_study  ... height  n_boxes  fold\n",
              "0      0  000a312787f2  5776db0cec75  ...   3488        1     0\n",
              "1      2  0012ff7358bc  9d514ce429a7  ...   2544        1     4\n",
              "2      4  001bd15d1891  dfd9fdd85a3e  ...   2800        1     3\n",
              "3      7  002e9b2128d0  0717c8ac304f  ...   2416        1     2\n",
              "4      8  00326161e51e  a81050391441  ...   2336        1     1\n",
              "\n",
              "[5 rows x 12 columns]"
            ]
          },
          "metadata": {
            "tags": []
          },
          "execution_count": 7
        }
      ]
    },
    {
      "cell_type": "code",
      "metadata": {
        "colab": {
          "base_uri": "https://localhost:8080/",
          "height": 203
        },
        "id": "LwbkaoL-1B1i",
        "outputId": "8787c90f-3506-4e84-a23c-24d8b9a12d48"
      },
      "source": [
        "marking.head()"
      ],
      "execution_count": 8,
      "outputs": [
        {
          "output_type": "execute_result",
          "data": {
            "text/html": [
              "<div>\n",
              "<style scoped>\n",
              "    .dataframe tbody tr th:only-of-type {\n",
              "        vertical-align: middle;\n",
              "    }\n",
              "\n",
              "    .dataframe tbody tr th {\n",
              "        vertical-align: top;\n",
              "    }\n",
              "\n",
              "    .dataframe thead th {\n",
              "        text-align: right;\n",
              "    }\n",
              "</style>\n",
              "<table border=\"1\" class=\"dataframe\">\n",
              "  <thead>\n",
              "    <tr style=\"text-align: right;\">\n",
              "      <th></th>\n",
              "      <th>image_id</th>\n",
              "      <th>width</th>\n",
              "      <th>height</th>\n",
              "      <th>x_min</th>\n",
              "      <th>y_min</th>\n",
              "      <th>x_max</th>\n",
              "      <th>y_max</th>\n",
              "      <th>fold</th>\n",
              "    </tr>\n",
              "  </thead>\n",
              "  <tbody>\n",
              "    <tr>\n",
              "      <th>0</th>\n",
              "      <td>000a312787f2</td>\n",
              "      <td>4256</td>\n",
              "      <td>3488</td>\n",
              "      <td>94.951983</td>\n",
              "      <td>85.494363</td>\n",
              "      <td>218.459546</td>\n",
              "      <td>366.933324</td>\n",
              "      <td>0</td>\n",
              "    </tr>\n",
              "    <tr>\n",
              "      <th>1</th>\n",
              "      <td>000a312787f2</td>\n",
              "      <td>4256</td>\n",
              "      <td>3488</td>\n",
              "      <td>270.184912</td>\n",
              "      <td>86.782426</td>\n",
              "      <td>401.873528</td>\n",
              "      <td>345.358491</td>\n",
              "      <td>0</td>\n",
              "    </tr>\n",
              "    <tr>\n",
              "      <th>2</th>\n",
              "      <td>0012ff7358bc</td>\n",
              "      <td>3056</td>\n",
              "      <td>2544</td>\n",
              "      <td>113.494812</td>\n",
              "      <td>39.844351</td>\n",
              "      <td>258.884998</td>\n",
              "      <td>241.058367</td>\n",
              "      <td>4</td>\n",
              "    </tr>\n",
              "    <tr>\n",
              "      <th>3</th>\n",
              "      <td>0012ff7358bc</td>\n",
              "      <td>3056</td>\n",
              "      <td>2544</td>\n",
              "      <td>300.346076</td>\n",
              "      <td>81.016855</td>\n",
              "      <td>403.722384</td>\n",
              "      <td>323.403371</td>\n",
              "      <td>4</td>\n",
              "    </tr>\n",
              "    <tr>\n",
              "      <th>4</th>\n",
              "      <td>001bd15d1891</td>\n",
              "      <td>3408</td>\n",
              "      <td>2800</td>\n",
              "      <td>93.631291</td>\n",
              "      <td>192.000000</td>\n",
              "      <td>200.898897</td>\n",
              "      <td>394.240000</td>\n",
              "      <td>3</td>\n",
              "    </tr>\n",
              "  </tbody>\n",
              "</table>\n",
              "</div>"
            ],
            "text/plain": [
              "       image_id width height  ...       x_max       y_max  fold\n",
              "0  000a312787f2  4256   3488  ...  218.459546  366.933324     0\n",
              "1  000a312787f2  4256   3488  ...  401.873528  345.358491     0\n",
              "2  0012ff7358bc  3056   2544  ...  258.884998  241.058367     4\n",
              "3  0012ff7358bc  3056   2544  ...  403.722384  323.403371     4\n",
              "4  001bd15d1891  3408   2800  ...  200.898897  394.240000     3\n",
              "\n",
              "[5 rows x 8 columns]"
            ]
          },
          "metadata": {
            "tags": []
          },
          "execution_count": 8
        }
      ]
    },
    {
      "cell_type": "code",
      "metadata": {
        "id": "ro4YIB1T1DP2"
      },
      "source": [
        "def get_train_transforms():\n",
        "    return A.Compose(\n",
        "        [\n",
        "            A.HorizontalFlip(p=0.5),\n",
        "            A.RandomBrightnessContrast(brightness_limit=0.2, contrast_limit=0.2, p=0.75),\n",
        "            A.RandomResizedCrop(CFG.dim,CFG.dim),\n",
        "            A.Cutout(num_holes=5, max_h_size=64, max_w_size=64, fill_value=0, p=0.5),\n",
        "            ToTensorV2(p=1.0),\n",
        "        ], \n",
        "        p=1.0, \n",
        "        bbox_params=A.BboxParams(\n",
        "            format='pascal_voc',\n",
        "            min_area=0, \n",
        "            min_visibility=0,\n",
        "            label_fields=['labels']\n",
        "        )\n",
        "    )\n",
        "\n",
        "def get_valid_transforms():\n",
        "    return A.Compose(\n",
        "        [\n",
        "            A.Resize(height=CFG.dim, width=CFG.dim, p=1.0),\n",
        "            ToTensorV2(p=1.0),\n",
        "        ], \n",
        "        p=1.0, \n",
        "        bbox_params=A.BboxParams(\n",
        "            format='pascal_voc',\n",
        "            min_area=0, \n",
        "            min_visibility=0,\n",
        "            label_fields=['labels']\n",
        "        )\n",
        "    )"
      ],
      "execution_count": 9,
      "outputs": []
    },
    {
      "cell_type": "code",
      "metadata": {
        "id": "21WL4L3V1FJA"
      },
      "source": [
        "TRAIN_ROOT_PATH = '/content/train/images'\n",
        "\n",
        "\n",
        "class DatasetRetriever(Dataset):\n",
        "\n",
        "    def __init__(self, marking, image_ids, transforms=None, test=False):\n",
        "        super().__init__()\n",
        "\n",
        "        self.image_ids = image_ids\n",
        "        self.marking = marking\n",
        "        self.transforms = transforms\n",
        "        self.test = test\n",
        "\n",
        "    def __getitem__(self, index: int):\n",
        "        image_id = self.image_ids[index]\n",
        "        \n",
        "        if self.test or not CFG.cutmix:\n",
        "            image, boxes = self.load_image_and_boxes(index)\n",
        "        else:\n",
        "            if random.random() > 0.2 :\n",
        "                image, boxes = self.load_image_and_boxes(index)\n",
        "            else:\n",
        "                image, boxes = self.load_cutmix_image_and_boxes(index, CFG.size)\n",
        "        \n",
        "        \n",
        "        target = {}\n",
        "        target['boxes'] = boxes\n",
        "        target['image_id'] = torch.tensor([index])\n",
        "        labels = torch.ones((target['boxes'].shape[0],), dtype=torch.int64)\n",
        "\n",
        "        if self.transforms:\n",
        "            \n",
        "            for i in range(10):\n",
        "                sample = self.transforms(**{\n",
        "                    'image': image,\n",
        "                    'bboxes': target['boxes'],\n",
        "                    'labels': labels\n",
        "                })\n",
        "                if len(sample['bboxes']) > 0:\n",
        "                    image = sample['image']\n",
        "                    target['boxes'] = torch.stack(tuple(map(torch.tensor, zip(*sample['bboxes'])))).permute(1, 0)\n",
        "                    target['boxes'][:,[0,1,2,3]] = target['boxes'][:,[1,0,3,2]]  #yxyx: be warning\n",
        "                    target['labels'] = torch.tensor(sample['labels'])\n",
        "                    break\n",
        "                    \n",
        "\n",
        "        return image, target, image_id\n",
        "\n",
        "    def __len__(self) -> int:\n",
        "        return self.image_ids.shape[0]\n",
        "\n",
        "    def load_image_and_boxes(self, index):\n",
        "        image_id = self.image_ids[index]\n",
        "        image = cv2.imread(f'{TRAIN_ROOT_PATH}/{image_id}.png', cv2.IMREAD_COLOR)\n",
        "        image = cv2.cvtColor(image, cv2.COLOR_BGR2RGB).astype(np.float32)\n",
        "        image /= 255.0\n",
        "        records = self.marking[self.marking['image_id'] == image_id]\n",
        "        boxes = records[['x_min', 'y_min', 'x_max', 'y_max']].values\n",
        "        return image, boxes\n",
        "\n",
        "    def load_cutmix_image_and_boxes(self, index, imsize):\n",
        "        \"\"\" \n",
        "        This implementation of cutmix author:  https://www.kaggle.com/nvnnghia \n",
        "        Refactoring and adaptation: https://www.kaggle.com/shonenkov\n",
        "        \"\"\"\n",
        "        w, h = imsize, imsize\n",
        "        s = imsize // 2\n",
        "    \n",
        "        xc, yc = [int(random.uniform(imsize * 0.25, imsize * 0.75)) for _ in range(2)]  # center x, y\n",
        "        indexes = [index] + [random.randint(0, self.image_ids.shape[0] - 1) for _ in range(3)]\n",
        "\n",
        "        result_image = np.full((imsize, imsize, 3), 1, dtype=np.float32)\n",
        "        result_boxes = []\n",
        "\n",
        "        for i, index in enumerate(indexes):\n",
        "            image, boxes = self.load_image_and_boxes(index)\n",
        "            if i == 0:\n",
        "                x1a, y1a, x2a, y2a = max(xc - w, 0), max(yc - h, 0), xc, yc  # xmin, ymin, xmax, ymax (large image)\n",
        "                x1b, y1b, x2b, y2b = w - (x2a - x1a), h - (y2a - y1a), w, h  # xmin, ymin, xmax, ymax (small image)\n",
        "            elif i == 1:  # top right\n",
        "                x1a, y1a, x2a, y2a = xc, max(yc - h, 0), min(xc + w, s * 2), yc\n",
        "                x1b, y1b, x2b, y2b = 0, h - (y2a - y1a), min(w, x2a - x1a), h\n",
        "            elif i == 2:  # bottom left\n",
        "                x1a, y1a, x2a, y2a = max(xc - w, 0), yc, xc, min(s * 2, yc + h)\n",
        "                x1b, y1b, x2b, y2b = w - (x2a - x1a), 0, max(xc, w), min(y2a - y1a, h)\n",
        "            elif i == 3:  # bottom right\n",
        "                x1a, y1a, x2a, y2a = xc, yc, min(xc + w, s * 2), min(s * 2, yc + h)\n",
        "                x1b, y1b, x2b, y2b = 0, 0, min(w, x2a - x1a), min(y2a - y1a, h)\n",
        "            result_image[y1a:y2a, x1a:x2a] = image[y1b:y2b, x1b:x2b]\n",
        "            padw = x1a - x1b\n",
        "            padh = y1a - y1b\n",
        "\n",
        "            boxes[:, 0] += padw\n",
        "            boxes[:, 1] += padh\n",
        "            boxes[:, 2] += padw\n",
        "            boxes[:, 3] += padh\n",
        "\n",
        "            result_boxes.append(boxes)\n",
        "\n",
        "        result_boxes = np.concatenate(result_boxes, 0)\n",
        "        np.clip(result_boxes[:, 0:], 0, 2 * s, out=result_boxes[:, 0:])\n",
        "        result_boxes = result_boxes.astype(np.int32)\n",
        "        result_boxes = result_boxes[np.where((result_boxes[:,2]-result_boxes[:,0])*(result_boxes[:,3]-result_boxes[:,1]) > 0)]\n",
        "        return result_image, result_boxes"
      ],
      "execution_count": 10,
      "outputs": []
    },
    {
      "cell_type": "code",
      "metadata": {
        "id": "EJFQh2vI1pvJ"
      },
      "source": [
        "train_dataset = DatasetRetriever(\n",
        "    image_ids=np.unique(marking[marking['fold'] != CFG.n_fold].image_id.values),\n",
        "    marking=marking,\n",
        "    transforms=get_train_transforms(),\n",
        "    test=False,\n",
        ")\n",
        "\n",
        "validation_dataset = DatasetRetriever(\n",
        "    image_ids=np.unique(marking[marking['fold'] == CFG.n_fold].image_id.values),\n",
        "    marking=marking,\n",
        "    transforms=get_valid_transforms(),\n",
        "    test=True,\n",
        ")"
      ],
      "execution_count": 11,
      "outputs": []
    },
    {
      "cell_type": "code",
      "metadata": {
        "colab": {
          "base_uri": "https://localhost:8080/",
          "height": 483
        },
        "id": "PaH53zVG1sOE",
        "outputId": "725483c6-0510-4d03-e89f-284db5129f53"
      },
      "source": [
        "image, target, image_id = train_dataset[1]\n",
        "boxes = target['boxes'].cpu().numpy().astype(np.int32)\n",
        "print(target['labels'].shape, target['boxes'].shape)\n",
        "\n",
        "numpy_image = image.permute(1,2,0).cpu().numpy()\n",
        "\n",
        "fig, ax = plt.subplots(1, 1, figsize=(16, 8))\n",
        "\n",
        "for box in boxes:\n",
        "    cv2.rectangle(numpy_image, (box[1], box[0]), (box[3],  box[2]), (0, 1, 0), 2)\n",
        "    \n",
        "ax.set_axis_off()\n",
        "ax.imshow(numpy_image);"
      ],
      "execution_count": 12,
      "outputs": [
        {
          "output_type": "stream",
          "text": [
            "torch.Size([2]) torch.Size([2, 4])\n"
          ],
          "name": "stdout"
        },
        {
          "output_type": "display_data",
          "data": {
            "image/png": "[encoded data removed]",
            "text/plain": [
              "<Figure size 1152x576 with 1 Axes>"
            ]
          },
          "metadata": {
            "tags": [],
            "needs_background": "light"
          }
        }
      ]
    },
    {
      "cell_type": "code",
      "metadata": {
        "id": "YFTtF3TV1trx"
      },
      "source": [
        "class AverageMeter(object):\n",
        "    \"\"\"Computes and stores the average and current value\"\"\"\n",
        "    def __init__(self):\n",
        "        self.reset()\n",
        "\n",
        "    def reset(self):\n",
        "        self.val = 0\n",
        "        self.avg = 0\n",
        "        self.sum = 0\n",
        "        self.count = 0\n",
        "\n",
        "    def update(self, val, n=1):\n",
        "        self.val = val\n",
        "        self.sum += val * n\n",
        "        self.count += n\n",
        "        self.avg = self.sum / self.count  "
      ],
      "execution_count": 13,
      "outputs": []
    },
    {
      "cell_type": "code",
      "metadata": {
        "id": "MdJDSHkdE629"
      },
      "source": [
        "import warnings\n",
        "\n",
        "warnings.filterwarnings(\"ignore\")\n",
        "\n",
        "class Fitter:\n",
        "    \n",
        "    def __init__(self, model, device, config):\n",
        "        self.config = config\n",
        "        self.epoch = 0\n",
        "\n",
        "        self.base_dir = f'{config.output_dir}'\n",
        "        if not os.path.exists(self.base_dir):\n",
        "            os.makedirs(self.base_dir)\n",
        "        \n",
        "        self.log_path = f'{self.base_dir}/log.txt'\n",
        "        self.best_summary_loss = 10**5\n",
        "\n",
        "        self.model = model\n",
        "        self.device = device\n",
        "\n",
        "        param_optimizer = list(self.model.named_parameters())\n",
        "        no_decay = ['bias', 'LayerNorm.bias', 'LayerNorm.weight']\n",
        "        optimizer_grouped_parameters = [\n",
        "            {'params': [p for n, p in param_optimizer if not any(nd in n for nd in no_decay)], 'weight_decay': 0.001},\n",
        "            {'params': [p for n, p in param_optimizer if any(nd in n for nd in no_decay)], 'weight_decay': 0.0}\n",
        "        ] \n",
        "\n",
        "        self.optimizer = torch.optim.AdamW(self.model.parameters(), lr=config.lr)\n",
        "        self.scheduler = config.SchedulerClass(self.optimizer, **config.scheduler_params)\n",
        "        self.log(f'Fitter prepared. Device is {self.device}')\n",
        "\n",
        "    def fit(self, train_loader, validation_loader):\n",
        "        for e in range(self.config.n_epochs):\n",
        "            if self.config.verbose:\n",
        "                lr = self.optimizer.param_groups[0]['lr']\n",
        "                timestamp = datetime.utcnow().isoformat()\n",
        "                self.log(f'\\n{timestamp}\\nLR: {lr}')\n",
        "\n",
        "            t = time.time()\n",
        "            summary_loss = self.train_one_epoch(train_loader)\n",
        "\n",
        "            self.log(f'[RESULT]: Train. Epoch: {self.epoch}, summary_loss: {summary_loss.avg:.5f}, time: {(time.time() - t):.5f}')\n",
        "            self.save(f'{self.base_dir}/last-checkpoint.bin')\n",
        "\n",
        "            t = time.time()\n",
        "            summary_loss = self.validation(validation_loader)\n",
        "\n",
        "            self.log(f'[RESULT]: Val. Epoch: {self.epoch}, summary_loss: {summary_loss.avg:.5f}, time: {(time.time() - t):.5f}')\n",
        "            if summary_loss.avg < self.best_summary_loss:\n",
        "                self.best_summary_loss = summary_loss.avg\n",
        "                self.model.eval()\n",
        "                self.save(f'{self.base_dir}/best-checkpoint-{str(self.epoch).zfill(3)}epoch.bin')\n",
        "                for path in sorted(glob(f'{self.base_dir}/best-checkpoint-*epoch.bin'))[:-3]:\n",
        "                    os.remove(path)\n",
        "\n",
        "            if self.config.validation_scheduler:\n",
        "                self.scheduler.step(metrics=summary_loss.avg)\n",
        "\n",
        "            self.epoch += 1\n",
        "\n",
        "    def validation(self, val_loader):\n",
        "        self.model.eval()\n",
        "        summary_loss = AverageMeter()\n",
        "        t = time.time()\n",
        "        for step, (images, targets, image_ids) in enumerate(val_loader):\n",
        "            if self.config.verbose:\n",
        "                if step % self.config.verbose_step == 0:\n",
        "                    print(\n",
        "                        f'Val Step {step}/{len(val_loader)}, ' + \\\n",
        "                        f'summary_loss: {summary_loss.avg:.5f}, ' + \\\n",
        "                        f'time: {(time.time() - t):.5f}', end='\\r'\n",
        "                    )\n",
        "            with torch.no_grad():\n",
        "                images = torch.stack(images)\n",
        "                batch_size = images.shape[0]\n",
        "                images = images.to(self.device).float()\n",
        "                boxes = [target['boxes'].to(self.device).float() for target in targets]\n",
        "                labels = [target['labels'].to(self.device).float() for target in targets]\n",
        "                target_res = {}\n",
        "                target_res['bbox'] = boxes\n",
        "                target_res['cls'] = labels \n",
        "                target_res[\"img_scale\"] = torch.tensor([1.0] * batch_size, dtype=torch.float).to(self.device)\n",
        "                target_res[\"img_size\"] = torch.tensor([images[0].shape[-2:]] * batch_size, dtype=torch.float).to(self.device)\n",
        "\n",
        "                output = self.model(images, target_res)\n",
        "                loss = output['loss']\n",
        "                summary_loss.update(loss.detach().item(), batch_size)\n",
        "\n",
        "        return summary_loss\n",
        "\n",
        "    def train_one_epoch(self, train_loader):\n",
        "        self.model.train()\n",
        "        summary_loss = AverageMeter()\n",
        "        \n",
        "        if CFG.apex:\n",
        "            scaler = GradScaler()\n",
        "            \n",
        "        t = time.time()\n",
        "        for step, (images, targets, image_ids) in enumerate(train_loader):\n",
        "            if self.config.verbose:\n",
        "                if step % self.config.verbose_step == 0:\n",
        "                    print(\n",
        "                        f'Train Step {step}/{len(train_loader)}, ' + \\\n",
        "                        f'summary_loss: {summary_loss.avg:.5f}, ' + \\\n",
        "                        f'time: {(time.time() - t):.5f}', end='\\r'\n",
        "                    )\n",
        "                    \n",
        "            images = torch.stack(images)\n",
        "            images = images.to(self.device).float()\n",
        "            batch_size = images.shape[0]\n",
        "            boxes = [target['boxes'].to(self.device).float() for target in targets]\n",
        "            labels = [target['labels'].to(self.device).float() for target in targets]\n",
        "\n",
        "            self.optimizer.zero_grad()\n",
        "            \n",
        "            if CFG.apex:\n",
        "                with autocast():\n",
        "                    loss = self.model(images, dict(bbox=boxes, cls=labels))['loss']\n",
        "            else:\n",
        "                loss = self.model(images, dict(bbox=boxes, cls=labels))['loss']\n",
        "            \n",
        "            if CFG.apex:\n",
        "                scaler.scale(loss).backward()\n",
        "            else:\n",
        "                loss.backward()\n",
        "                \n",
        "            if CFG.apex:\n",
        "                scaler.step(self.optimizer)\n",
        "                scaler.update()\n",
        "            else:\n",
        "                self.optimizer.step()\n",
        "\n",
        "            summary_loss.update(loss.detach().item(), batch_size)\n",
        "\n",
        "\n",
        "            if self.config.step_scheduler:\n",
        "                self.scheduler.step()\n",
        "\n",
        "        return summary_loss\n",
        "    \n",
        "    def save(self, path):\n",
        "        self.model.eval()\n",
        "        torch.save({\n",
        "            'model_state_dict': self.model.model.state_dict(),\n",
        "            'optimizer_state_dict': self.optimizer.state_dict(),\n",
        "            'scheduler_state_dict': self.scheduler.state_dict(),\n",
        "            'best_summary_loss': self.best_summary_loss,\n",
        "            'epoch': self.epoch,\n",
        "        }, path)\n",
        "\n",
        "    def load(self, path):\n",
        "        checkpoint = torch.load(path)\n",
        "        self.model.model.load_state_dict(checkpoint['model_state_dict'])\n",
        "        self.optimizer.load_state_dict(checkpoint['optimizer_state_dict'])\n",
        "        self.scheduler.load_state_dict(checkpoint['scheduler_state_dict'])\n",
        "        self.best_summary_loss = checkpoint['best_summary_loss']\n",
        "        self.epoch = checkpoint['epoch'] + 1\n",
        "        \n",
        "    def log(self, message):\n",
        "        if self.config.verbose:\n",
        "            print(message)\n",
        "        with open(self.log_path, 'a+') as logger:\n",
        "            logger.write(f'{message}\\n')"
      ],
      "execution_count": 14,
      "outputs": []
    },
    {
      "cell_type": "code",
      "metadata": {
        "id": "F2g0YIjIE8Z_"
      },
      "source": [
        "def collate_fn(batch):\n",
        "    return tuple(zip(*batch))\n",
        "\n",
        "def run_training():\n",
        "    device = torch.device('cuda:0')\n",
        "    net.to(device)\n",
        "\n",
        "    train_loader = torch.utils.data.DataLoader(\n",
        "        train_dataset,\n",
        "        batch_size=CFG.batch_size,\n",
        "        sampler=RandomSampler(train_dataset),\n",
        "        pin_memory=False,\n",
        "        drop_last=True,\n",
        "        num_workers=CFG.num_workers,\n",
        "        collate_fn=collate_fn,\n",
        "    )\n",
        "    val_loader = torch.utils.data.DataLoader(\n",
        "        validation_dataset, \n",
        "        batch_size=CFG.batch_size,\n",
        "        num_workers=CFG.num_workers,\n",
        "        shuffle=False,\n",
        "        sampler=SequentialSampler(validation_dataset),\n",
        "        pin_memory=False,\n",
        "        collate_fn=collate_fn,\n",
        "    )\n",
        "\n",
        "    fitter = Fitter(model=net, device=device, config=CFG)\n",
        "    if CFG.checkpoint is not None:\n",
        "        fitter.load(CFG.checkpoint)\n",
        "        \n",
        "    fitter.fit(train_loader, val_loader)"
      ],
      "execution_count": 15,
      "outputs": []
    },
    {
      "cell_type": "code",
      "metadata": {
        "id": "TvcYHwldE-jm",
        "colab": {
          "base_uri": "https://localhost:8080/"
        },
        "outputId": "7769d38a-f534-49ce-ec6b-d62f0210b9d9"
      },
      "source": [
        "!pip install --no-deps '/content/pycocotools/pycocotools-2.0-cp37-cp37m-linux_x86_64.whl' > /dev/null\n",
        "sys.path.append('/content/efficientdetpytorch/efficientdet-pytorch-master')\n",
        "sys.path.append('/content/omegaconf')\n",
        "from effdet import get_efficientdet_config, DetBenchTrain, EfficientDet\n",
        "from effdet.efficientdet import HeadNet\n",
        "import gc\n",
        "\n",
        "def get_net():\n",
        "    config = get_efficientdet_config(CFG.model_name)\n",
        "    config.num_classes = CFG.target_size\n",
        "    config.image_size = [CFG.dim,CFG.dim]\n",
        "    net = EfficientDet(config, pretrained_backbone= True if CFG.checkpoint is None else False)\n",
        "    net.class_net = HeadNet(config, num_outputs=config.num_classes)\n",
        "    \n",
        "    if CFG.checkpoint is not None:\n",
        "        checkpoint = torch.load(CFG.checkpoint)\n",
        "        net.load_state_dict(checkpoint['model_state_dict'])\n",
        "        del checkpoint\n",
        "    \n",
        "    gc.collect()\n",
        "        \n",
        "    return DetBenchTrain(net, create_labeler=True)\n",
        "\n",
        "net = get_net()"
      ],
      "execution_count": 16,
      "outputs": [
        {
          "output_type": "stream",
          "text": [
            "\u001b[33mWARNING: Running pip as the 'root' user can result in broken permissions and conflicting behaviour with the system package manager. It is recommended to use a virtual environment instead: https://pip.pypa.io/warnings/venv\u001b[0m\n"
          ],
          "name": "stdout"
        }
      ]
    },
    {
      "cell_type": "code",
      "metadata": {
        "colab": {
          "base_uri": "https://localhost:8080/"
        },
        "id": "ew3Dvj5fF_Zk",
        "outputId": "81384a0b-1d64-49ab-f60f-9b6a63424336"
      },
      "source": [
        "run_training()"
      ],
      "execution_count": null,
      "outputs": [
        {
          "output_type": "stream",
          "text": [
            "Fitter prepared. Device is cuda:0\n",
            "\n",
            "2021-07-15T18:42:54.944588\n",
            "LR: 0.0003\n",
            "[RESULT]: Train. Epoch: 0, summary_loss: 92.36474, time: 173.49605\n",
            "[RESULT]: Val. Epoch: 0, summary_loss: 12.03072, time: 16.90777\n",
            "\n",
            "2021-07-15T18:46:06.792573\n",
            "LR: 0.0002802462525003571\n"
          ],
          "name": "stdout"
        }
      ]
    },
    {
      "cell_type": "code",
      "metadata": {
        "id": "hQP3E14pG-UI"
      },
      "source": [
        ""
      ],
      "execution_count": null,
      "outputs": []
    }
  ]
}