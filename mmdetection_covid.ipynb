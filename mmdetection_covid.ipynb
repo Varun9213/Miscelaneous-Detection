{
  "nbformat": 4,
  "nbformat_minor": 0,
  "metadata": {
    "colab": {
      "name": "mmdetection_covid.ipynb",
      "provenance": [],
      "collapsed_sections": [],
      "machine_shape": "hm",
      "authorship_tag": "ABX9TyNcFay9NJDtf38ZnG5zSdAm",
      "include_colab_link": true
    },
    "kernelspec": {
      "name": "python3",
      "display_name": "Python 3"
    },
    "language_info": {
      "name": "python"
    },
    "accelerator": "GPU",
    "widgets": {
      "application/vnd.jupyter.widget-state+json": {
        "e8c6eea394564e2fb334bf487da1366f": {
          "model_module": "@jupyter-widgets/controls",
          "model_name": "HBoxModel",
          "state": {
            "_view_name": "HBoxView",
            "_dom_classes": [],
            "_model_name": "HBoxModel",
            "_view_module": "@jupyter-widgets/controls",
            "_model_module_version": "1.5.0",
            "_view_count": null,
            "_view_module_version": "1.5.0",
            "box_style": "",
            "layout": "IPY_MODEL_2e987c3f72404b95ac923c7538f4897f",
            "_model_module": "@jupyter-widgets/controls",
            "children": [
              "IPY_MODEL_ab2d6fbe041140f9b58ff2b838a3567b",
              "IPY_MODEL_c753940e236848e8b150c00b3a8e8e16"
            ]
          }
        },
        "2e987c3f72404b95ac923c7538f4897f": {
          "model_module": "@jupyter-widgets/base",
          "model_name": "LayoutModel",
          "state": {
            "_view_name": "LayoutView",
            "grid_template_rows": null,
            "right": null,
            "justify_content": null,
            "_view_module": "@jupyter-widgets/base",
            "overflow": null,
            "_model_module_version": "1.2.0",
            "_view_count": null,
            "flex_flow": null,
            "width": null,
            "min_width": null,
            "border": null,
            "align_items": null,
            "bottom": null,
            "_model_module": "@jupyter-widgets/base",
            "top": null,
            "grid_column": null,
            "overflow_y": null,
            "overflow_x": null,
            "grid_auto_flow": null,
            "grid_area": null,
            "grid_template_columns": null,
            "flex": null,
            "_model_name": "LayoutModel",
            "justify_items": null,
            "grid_row": null,
            "max_height": null,
            "align_content": null,
            "visibility": null,
            "align_self": null,
            "height": null,
            "min_height": null,
            "padding": null,
            "grid_auto_rows": null,
            "grid_gap": null,
            "max_width": null,
            "order": null,
            "_view_module_version": "1.2.0",
            "grid_template_areas": null,
            "object_position": null,
            "object_fit": null,
            "grid_auto_columns": null,
            "margin": null,
            "display": null,
            "left": null
          }
        },
        "ab2d6fbe041140f9b58ff2b838a3567b": {
          "model_module": "@jupyter-widgets/controls",
          "model_name": "FloatProgressModel",
          "state": {
            "_view_name": "ProgressView",
            "style": "IPY_MODEL_f77b127cbefb48a9b257c68b07b7b438",
            "_dom_classes": [],
            "description": "100%",
            "_model_name": "FloatProgressModel",
            "bar_style": "success",
            "max": 216416078,
            "_view_module": "@jupyter-widgets/controls",
            "_model_module_version": "1.5.0",
            "value": 216416078,
            "_view_count": null,
            "_view_module_version": "1.5.0",
            "orientation": "horizontal",
            "min": 0,
            "description_tooltip": null,
            "_model_module": "@jupyter-widgets/controls",
            "layout": "IPY_MODEL_9280f283a5374dc996d2ec6d04c64fce"
          }
        },
        "c753940e236848e8b150c00b3a8e8e16": {
          "model_module": "@jupyter-widgets/controls",
          "model_name": "HTMLModel",
          "state": {
            "_view_name": "HTMLView",
            "style": "IPY_MODEL_e27b0b128b8b4ba1be9f9ba98c7d2451",
            "_dom_classes": [],
            "description": "",
            "_model_name": "HTMLModel",
            "placeholder": "​",
            "_view_module": "@jupyter-widgets/controls",
            "_model_module_version": "1.5.0",
            "value": " 206M/206M [02:46&lt;00:00, 1.30MB/s]",
            "_view_count": null,
            "_view_module_version": "1.5.0",
            "description_tooltip": null,
            "_model_module": "@jupyter-widgets/controls",
            "layout": "IPY_MODEL_7b76540ed19f432d9091425edf35d6ac"
          }
        },
        "f77b127cbefb48a9b257c68b07b7b438": {
          "model_module": "@jupyter-widgets/controls",
          "model_name": "ProgressStyleModel",
          "state": {
            "_view_name": "StyleView",
            "_model_name": "ProgressStyleModel",
            "description_width": "initial",
            "_view_module": "@jupyter-widgets/base",
            "_model_module_version": "1.5.0",
            "_view_count": null,
            "_view_module_version": "1.2.0",
            "bar_color": null,
            "_model_module": "@jupyter-widgets/controls"
          }
        },
        "9280f283a5374dc996d2ec6d04c64fce": {
          "model_module": "@jupyter-widgets/base",
          "model_name": "LayoutModel",
          "state": {
            "_view_name": "LayoutView",
            "grid_template_rows": null,
            "right": null,
            "justify_content": null,
            "_view_module": "@jupyter-widgets/base",
            "overflow": null,
            "_model_module_version": "1.2.0",
            "_view_count": null,
            "flex_flow": null,
            "width": null,
            "min_width": null,
            "border": null,
            "align_items": null,
            "bottom": null,
            "_model_module": "@jupyter-widgets/base",
            "top": null,
            "grid_column": null,
            "overflow_y": null,
            "overflow_x": null,
            "grid_auto_flow": null,
            "grid_area": null,
            "grid_template_columns": null,
            "flex": null,
            "_model_name": "LayoutModel",
            "justify_items": null,
            "grid_row": null,
            "max_height": null,
            "align_content": null,
            "visibility": null,
            "align_self": null,
            "height": null,
            "min_height": null,
            "padding": null,
            "grid_auto_rows": null,
            "grid_gap": null,
            "max_width": null,
            "order": null,
            "_view_module_version": "1.2.0",
            "grid_template_areas": null,
            "object_position": null,
            "object_fit": null,
            "grid_auto_columns": null,
            "margin": null,
            "display": null,
            "left": null
          }
        },
        "e27b0b128b8b4ba1be9f9ba98c7d2451": {
          "model_module": "@jupyter-widgets/controls",
          "model_name": "DescriptionStyleModel",
          "state": {
            "_view_name": "StyleView",
            "_model_name": "DescriptionStyleModel",
            "description_width": "",
            "_view_module": "@jupyter-widgets/base",
            "_model_module_version": "1.5.0",
            "_view_count": null,
            "_view_module_version": "1.2.0",
            "_model_module": "@jupyter-widgets/controls"
          }
        },
        "7b76540ed19f432d9091425edf35d6ac": {
          "model_module": "@jupyter-widgets/base",
          "model_name": "LayoutModel",
          "state": {
            "_view_name": "LayoutView",
            "grid_template_rows": null,
            "right": null,
            "justify_content": null,
            "_view_module": "@jupyter-widgets/base",
            "overflow": null,
            "_model_module_version": "1.2.0",
            "_view_count": null,
            "flex_flow": null,
            "width": null,
            "min_width": null,
            "border": null,
            "align_items": null,
            "bottom": null,
            "_model_module": "@jupyter-widgets/base",
            "top": null,
            "grid_column": null,
            "overflow_y": null,
            "overflow_x": null,
            "grid_auto_flow": null,
            "grid_area": null,
            "grid_template_columns": null,
            "flex": null,
            "_model_name": "LayoutModel",
            "justify_items": null,
            "grid_row": null,
            "max_height": null,
            "align_content": null,
            "visibility": null,
            "align_self": null,
            "height": null,
            "min_height": null,
            "padding": null,
            "grid_auto_rows": null,
            "grid_gap": null,
            "max_width": null,
            "order": null,
            "_view_module_version": "1.2.0",
            "grid_template_areas": null,
            "object_position": null,
            "object_fit": null,
            "grid_auto_columns": null,
            "margin": null,
            "display": null,
            "left": null
          }
        }
      }
    }
  },
  "cells": [
    {
      "cell_type": "markdown",
      "metadata": {
        "id": "view-in-github",
        "colab_type": "text"
      },
      "source": [
        "<a href=\"https://colab.research.google.com/github/Varun9213/SIIM-FISABIO-RSNA-COVID-19-Detection/blob/main/mmdetection_covid.ipynb\" target=\"_parent\"><img src=\"https://colab.research.google.com/assets/colab-badge.svg\" alt=\"Open In Colab\"/></a>"
      ]
    },
    {
      "cell_type": "code",
      "metadata": {
        "colab": {
          "base_uri": "https://localhost:8080/"
        },
        "id": "R955bqJAhzf-",
        "outputId": "369569a7-643f-487e-a9fb-98edd8ead6d1"
      },
      "source": [
        "!pip install -q kaggle\n",
        "!pip install albumentations==0.5.2 --no-cache-dir -q"
      ],
      "execution_count": 1,
      "outputs": [
        {
          "output_type": "stream",
          "text": [
            "\u001b[K     |████████████████████████████████| 81kB 6.6MB/s \n",
            "\u001b[K     |████████████████████████████████| 952kB 8.5MB/s \n",
            "\u001b[K     |████████████████████████████████| 37.2MB 1.4MB/s \n",
            "\u001b[?25h"
          ],
          "name": "stdout"
        }
      ]
    },
    {
      "cell_type": "code",
      "metadata": {
        "colab": {
          "base_uri": "https://localhost:8080/"
        },
        "id": "JkrGGO8DiKST",
        "outputId": "ea712ed4-3c21-4296-8cea-fb8c6b14ed7b"
      },
      "source": [
        "from google.colab import drive\n",
        "drive.mount('/content/gdrive', force_remount=True)"
      ],
      "execution_count": 2,
      "outputs": [
        {
          "output_type": "stream",
          "text": [
            "Mounted at /content/gdrive\n"
          ],
          "name": "stdout"
        }
      ]
    },
    {
      "cell_type": "code",
      "metadata": {
        "id": "ySmqgffjiL6s"
      },
      "source": [
        "!mkdir ~/.kaggle\n",
        "!cp /content/gdrive/MyDrive/kaggle/kaggle.json ~/.kaggle/\n",
        "!chmod 600 ~/.kaggle/kaggle.json"
      ],
      "execution_count": 3,
      "outputs": []
    },
    {
      "cell_type": "code",
      "metadata": {
        "colab": {
          "base_uri": "https://localhost:8080/"
        },
        "id": "kzJGb1_miTOA",
        "outputId": "f0245b7f-e4d1-4ea0-b74b-5ba2c6e8dcc1"
      },
      "source": [
        "!kaggle datasets download -d sohomdey/siim-covid19-detection-512"
      ],
      "execution_count": 4,
      "outputs": [
        {
          "output_type": "stream",
          "text": [
            "Downloading siim-covid19-detection-512.zip to /content\n",
            " 98% 802M/817M [00:04<00:00, 189MB/s]\n",
            "100% 817M/817M [00:04<00:00, 191MB/s]\n"
          ],
          "name": "stdout"
        }
      ]
    },
    {
      "cell_type": "code",
      "metadata": {
        "colab": {
          "base_uri": "https://localhost:8080/"
        },
        "id": "VuxNTdsViVCI",
        "outputId": "14e41941-f149-4449-a29d-e131ebc33837"
      },
      "source": [
        "!mkdir train\n",
        "!unzip -q /content/siim-covid19-detection-512.zip -d train\n",
        "!kaggle datasets download -d kozodoi/timm-pytorch-image-models\n",
        "!mkdir timm\n",
        "!unzip -q /content/timm-pytorch-image-models.zip -d timm"
      ],
      "execution_count": 5,
      "outputs": [
        {
          "output_type": "stream",
          "text": [
            "Downloading timm-pytorch-image-models.zip to /content\n",
            " 35% 5.00M/14.2M [00:00<00:00, 45.9MB/s]\n",
            "100% 14.2M/14.2M [00:00<00:00, 69.2MB/s]\n"
          ],
          "name": "stdout"
        }
      ]
    },
    {
      "cell_type": "code",
      "metadata": {
        "colab": {
          "base_uri": "https://localhost:8080/"
        },
        "id": "Zk9_twh7iv3k",
        "outputId": "62036315-18ca-48b3-8ac3-25c3010e34d7"
      },
      "source": [
        "# Check nvcc version\n",
        "!nvcc -V\n",
        "# Check GCC version\n",
        "!gcc --version"
      ],
      "execution_count": 6,
      "outputs": [
        {
          "output_type": "stream",
          "text": [
            "nvcc: NVIDIA (R) Cuda compiler driver\n",
            "Copyright (c) 2005-2020 NVIDIA Corporation\n",
            "Built on Wed_Jul_22_19:09:09_PDT_2020\n",
            "Cuda compilation tools, release 11.0, V11.0.221\n",
            "Build cuda_11.0_bu.TC445_37.28845127_0\n",
            "gcc (Ubuntu 7.5.0-3ubuntu1~18.04) 7.5.0\n",
            "Copyright (C) 2017 Free Software Foundation, Inc.\n",
            "This is free software; see the source for copying conditions.  There is NO\n",
            "warranty; not even for MERCHANTABILITY or FITNESS FOR A PARTICULAR PURPOSE.\n",
            "\n"
          ],
          "name": "stdout"
        }
      ]
    },
    {
      "cell_type": "code",
      "metadata": {
        "colab": {
          "base_uri": "https://localhost:8080/"
        },
        "id": "RKBRgB-9l75f",
        "outputId": "a6091900-a84e-4056-dd35-80cdbe84b148"
      },
      "source": [
        "!pip install mmcv-full\n",
        "\n",
        "!rm -rf mmdetection\n",
        "!git clone https://github.com/open-mmlab/mmdetection.git\n",
        "%cd mmdetection\n",
        "\n",
        "!pip install -e ."
      ],
      "execution_count": 7,
      "outputs": [
        {
          "output_type": "stream",
          "text": [
            "Collecting mmcv-full\n",
            "\u001b[?25l  Downloading https://files.pythonhosted.org/packages/98/06/fc6b0c3532806d3d807679c4153e2de52b17c5c881d0c9ac3b4ed426beab/mmcv-full-1.3.9.tar.gz (313kB)\n",
            "\r\u001b[K     |█                               | 10kB 16.7MB/s eta 0:00:01\r\u001b[K     |██                              | 20kB 21.1MB/s eta 0:00:01\r\u001b[K     |███▏                            | 30kB 11.0MB/s eta 0:00:01\r\u001b[K     |████▏                           | 40kB 8.9MB/s eta 0:00:01\r\u001b[K     |█████▎                          | 51kB 5.1MB/s eta 0:00:01\r\u001b[K     |██████▎                         | 61kB 5.6MB/s eta 0:00:01\r\u001b[K     |███████▎                        | 71kB 6.0MB/s eta 0:00:01\r\u001b[K     |████████▍                       | 81kB 6.1MB/s eta 0:00:01\r\u001b[K     |█████████▍                      | 92kB 6.1MB/s eta 0:00:01\r\u001b[K     |██████████▌                     | 102kB 5.2MB/s eta 0:00:01\r\u001b[K     |███████████▌                    | 112kB 5.2MB/s eta 0:00:01\r\u001b[K     |████████████▌                   | 122kB 5.2MB/s eta 0:00:01\r\u001b[K     |█████████████▋                  | 133kB 5.2MB/s eta 0:00:01\r\u001b[K     |██████████████▋                 | 143kB 5.2MB/s eta 0:00:01\r\u001b[K     |███████████████▊                | 153kB 5.2MB/s eta 0:00:01\r\u001b[K     |████████████████▊               | 163kB 5.2MB/s eta 0:00:01\r\u001b[K     |█████████████████▉              | 174kB 5.2MB/s eta 0:00:01\r\u001b[K     |██████████████████▉             | 184kB 5.2MB/s eta 0:00:01\r\u001b[K     |███████████████████▉            | 194kB 5.2MB/s eta 0:00:01\r\u001b[K     |█████████████████████           | 204kB 5.2MB/s eta 0:00:01\r\u001b[K     |██████████████████████          | 215kB 5.2MB/s eta 0:00:01\r\u001b[K     |███████████████████████         | 225kB 5.2MB/s eta 0:00:01\r\u001b[K     |████████████████████████        | 235kB 5.2MB/s eta 0:00:01\r\u001b[K     |█████████████████████████       | 245kB 5.2MB/s eta 0:00:01\r\u001b[K     |██████████████████████████▏     | 256kB 5.2MB/s eta 0:00:01\r\u001b[K     |███████████████████████████▏    | 266kB 5.2MB/s eta 0:00:01\r\u001b[K     |████████████████████████████▎   | 276kB 5.2MB/s eta 0:00:01\r\u001b[K     |█████████████████████████████▎  | 286kB 5.2MB/s eta 0:00:01\r\u001b[K     |██████████████████████████████▎ | 296kB 5.2MB/s eta 0:00:01\r\u001b[K     |███████████████████████████████▍| 307kB 5.2MB/s eta 0:00:01\r\u001b[K     |████████████████████████████████| 317kB 5.2MB/s \n",
            "\u001b[?25hCollecting addict\n",
            "  Downloading https://files.pythonhosted.org/packages/6a/00/b08f23b7d7e1e14ce01419a467b583edbb93c6cdb8654e54a9cc579cd61f/addict-2.4.0-py3-none-any.whl\n",
            "Requirement already satisfied: numpy in /usr/local/lib/python3.7/dist-packages (from mmcv-full) (1.19.5)\n",
            "Requirement already satisfied: Pillow in /usr/local/lib/python3.7/dist-packages (from mmcv-full) (7.1.2)\n",
            "Requirement already satisfied: pyyaml in /usr/local/lib/python3.7/dist-packages (from mmcv-full) (3.13)\n",
            "Collecting yapf\n",
            "\u001b[?25l  Downloading https://files.pythonhosted.org/packages/5f/0d/8814e79eb865eab42d95023b58b650d01dec6f8ea87fc9260978b1bf2167/yapf-0.31.0-py2.py3-none-any.whl (185kB)\n",
            "\u001b[K     |████████████████████████████████| 194kB 8.6MB/s \n",
            "\u001b[?25hBuilding wheels for collected packages: mmcv-full\n",
            "  Building wheel for mmcv-full (setup.py) ... \u001b[?25l\u001b[?25hdone\n",
            "  Created wheel for mmcv-full: filename=mmcv_full-1.3.9-cp37-cp37m-linux_x86_64.whl size=29395926 sha256=8a949ae0261628be08e578e6adea6a30a93404a21c10b5eaf8be151742a0b790\n",
            "  Stored in directory: /root/.cache/pip/wheels/e0/2b/d5/410850bd0f29e241507daf354083142a0c25d66667f22e707a\n",
            "Successfully built mmcv-full\n",
            "Installing collected packages: addict, yapf, mmcv-full\n",
            "Successfully installed addict-2.4.0 mmcv-full-1.3.9 yapf-0.31.0\n",
            "Cloning into 'mmdetection'...\n",
            "remote: Enumerating objects: 19329, done.\u001b[K\n",
            "remote: Counting objects: 100% (267/267), done.\u001b[K\n",
            "remote: Compressing objects: 100% (190/190), done.\u001b[K\n",
            "remote: Total 19329 (delta 114), reused 185 (delta 76), pack-reused 19062\u001b[K\n",
            "Receiving objects: 100% (19329/19329), 23.61 MiB | 31.65 MiB/s, done.\n",
            "Resolving deltas: 100% (13502/13502), done.\n",
            "/content/mmdetection\n",
            "Obtaining file:///content/mmdetection\n",
            "Requirement already satisfied: matplotlib in /usr/local/lib/python3.7/dist-packages (from mmdet==2.14.0) (3.2.2)\n",
            "Requirement already satisfied: numpy in /usr/local/lib/python3.7/dist-packages (from mmdet==2.14.0) (1.19.5)\n",
            "Requirement already satisfied: six in /usr/local/lib/python3.7/dist-packages (from mmdet==2.14.0) (1.15.0)\n",
            "Collecting terminaltables\n",
            "  Downloading https://files.pythonhosted.org/packages/9b/c4/4a21174f32f8a7e1104798c445dacdc1d4df86f2f26722767034e4de4bff/terminaltables-3.1.0.tar.gz\n",
            "Requirement already satisfied: pycocotools in /usr/local/lib/python3.7/dist-packages (from mmdet==2.14.0) (2.0.2)\n",
            "Requirement already satisfied: pyparsing!=2.0.4,!=2.1.2,!=2.1.6,>=2.0.1 in /usr/local/lib/python3.7/dist-packages (from matplotlib->mmdet==2.14.0) (2.4.7)\n",
            "Requirement already satisfied: cycler>=0.10 in /usr/local/lib/python3.7/dist-packages (from matplotlib->mmdet==2.14.0) (0.10.0)\n",
            "Requirement already satisfied: python-dateutil>=2.1 in /usr/local/lib/python3.7/dist-packages (from matplotlib->mmdet==2.14.0) (2.8.1)\n",
            "Requirement already satisfied: kiwisolver>=1.0.1 in /usr/local/lib/python3.7/dist-packages (from matplotlib->mmdet==2.14.0) (1.3.1)\n",
            "Requirement already satisfied: cython>=0.27.3 in /usr/local/lib/python3.7/dist-packages (from pycocotools->mmdet==2.14.0) (0.29.23)\n",
            "Requirement already satisfied: setuptools>=18.0 in /usr/local/lib/python3.7/dist-packages (from pycocotools->mmdet==2.14.0) (57.0.0)\n",
            "Building wheels for collected packages: terminaltables\n",
            "  Building wheel for terminaltables (setup.py) ... \u001b[?25l\u001b[?25hdone\n",
            "  Created wheel for terminaltables: filename=terminaltables-3.1.0-cp37-none-any.whl size=15356 sha256=6bd7176350a0b8d12cc4803110d2f875d136a9e7cb7888254f8f7337c7cfb426\n",
            "  Stored in directory: /root/.cache/pip/wheels/30/6b/50/6c75775b681fb36cdfac7f19799888ef9d8813aff9e379663e\n",
            "Successfully built terminaltables\n",
            "Installing collected packages: terminaltables, mmdet\n",
            "  Running setup.py develop for mmdet\n",
            "Successfully installed mmdet terminaltables-3.1.0\n"
          ],
          "name": "stdout"
        }
      ]
    },
    {
      "cell_type": "code",
      "metadata": {
        "colab": {
          "base_uri": "https://localhost:8080/"
        },
        "id": "QGpZPGtip8S6",
        "outputId": "820568d7-9e57-4813-904f-60ce9234aec1"
      },
      "source": [
        "# Check Pytorch installation\n",
        "import torch, torchvision, os\n",
        "print(torch.__version__, torch.cuda.is_available())\n",
        "\n",
        "# Check MMDetection installation\n",
        "import mmdet\n",
        "print(mmdet.__version__)\n",
        "\n",
        "# Check mmcv installation\n",
        "from mmcv.ops import get_compiling_cuda_version, get_compiler_version\n",
        "print(get_compiling_cuda_version())\n",
        "print(get_compiler_version())"
      ],
      "execution_count": 1,
      "outputs": [
        {
          "output_type": "stream",
          "text": [
            "1.9.0+cu102 True\n",
            "2.14.0\n",
            "11.0\n",
            "GCC 7.5\n"
          ],
          "name": "stdout"
        }
      ]
    },
    {
      "cell_type": "markdown",
      "metadata": {
        "id": "ZcNIjXKVIkaU"
      },
      "source": [
        "**CONFIG**"
      ]
    },
    {
      "cell_type": "code",
      "metadata": {
        "id": "hbAjv9IV5oy4"
      },
      "source": [
        "class CFG:\n",
        "  cls=['opacity']\n",
        "\n",
        "  dim=512\n",
        "  size=640\n",
        "  fold=0\n",
        "  debug=False\n",
        "  seed=42\n",
        "  generate_ann=False\n",
        "  prefix_img = '/content/train/images/'\n",
        "\n",
        "  if debug:\n",
        "    prefix_ann = '/content/annotaions/'\n",
        "    #!mkdir /content/annotaions\n",
        "  else:\n",
        "    prefix_ann = '/content/gdrive/MyDrive/kaggle/COVID_annotaions/'\n",
        "\n",
        "  if generate_ann and not debug:\n",
        "    !mkdir /content/gdrive/MyDrive/kaggle/COVID_annotaions/\n",
        "\n",
        "  n_classes=len(cls)\n",
        "  batch_size=4\n",
        "  num_workers=4\n",
        "  epochs=15\n",
        "  if debug:\n",
        "    epochs=1\n",
        "  lr=3e-4\n",
        "  min_lr=3e-5\n",
        "  _base_='/content/mmdetection/configs/vfnet/vfnet_r50_fpn_mdconv_c3-c5_mstrain_2x_coco.py'\n",
        "  checkpoint='https://openmmlab.oss-cn-hangzhou.aliyuncs.com/mmdetection/v2.0/vfnet/vfnet_r101_fpn_mdconv_c3-c5_mstrain_2x_coco/vfnet_r101_fpn_mdconv_c3-c5_mstrain_2x_coco_20201027pth-7729adb5.pth'\n",
        "\n",
        "\n",
        "  if debug:\n",
        "    outdir='/content/outdir/'\n",
        "    !mkdir /content/outdir\n",
        "  else:\n",
        "    outdir='/content/gdrive/MyDrive/kaggle/'  "
      ],
      "execution_count": 2,
      "outputs": []
    },
    {
      "cell_type": "markdown",
      "metadata": {
        "id": "9T7gTfHSiG6b"
      },
      "source": [
        "**Data Frames**"
      ]
    },
    {
      "cell_type": "code",
      "metadata": {
        "id": "kwqjFwbH3_tM"
      },
      "source": [
        "import pandas as pd\n",
        "import numpy as np\n",
        "from tqdm.auto import tqdm\n",
        "from sklearn.model_selection import GroupKFold\n",
        "\n",
        "if CFG.generate_ann:\n",
        "\n",
        "  raw = pd.read_csv('/content/train/train.csv')\n",
        "  raw['n_boxes'] = raw.label.apply(lambda x: len(x.split(\" \"))//6-1)\n",
        "  raw = raw[raw['n_boxes']>0].reset_index()\n",
        "\n",
        "  gkf  = GroupKFold(n_splits = 5)\n",
        "  raw['fold'] = -1\n",
        "  for fold, (train_idx, val_idx) in enumerate(gkf.split(raw, groups = raw.id_image.tolist())):\n",
        "      raw.loc[val_idx, 'fold'] = fold\n",
        "\n",
        "  marking=pd.DataFrame(columns=['image_id', 'width', 'height', 'x', 'y', 'w', 'h','fold'])\n",
        "  for _,row in tqdm(raw.iterrows(), total=len(raw)):\n",
        "      bxs=np.array(row.label.split(\" \")).reshape(-1,6)\n",
        "      for bb in bxs:\n",
        "          w_r=CFG.dim/row.width\n",
        "          h_r=CFG.dim/row.height\n",
        "          marking=marking.append({'image_id': row.id_image,\n",
        "                                  'width':row.width,\n",
        "                                  'height':row.height,\n",
        "                                  'x':np.clip(float(bb[2]) * w_r,0,CFG.dim-1),\n",
        "                                  'y':np.clip(float(bb[3]) * h_r,0,CFG.dim-1),\n",
        "                                  'w':np.clip((float(bb[4])-float(bb[2])) * w_r,0,CFG.dim-1),\n",
        "                                  'h':np.clip((float(bb[5])-float(bb[3])) * h_r,0,CFG.dim-1),\n",
        "                                  'fold':row.fold}, ignore_index=True)\n",
        "          \n",
        "  train_df=marking[marking['fold']!=CFG.fold].reset_index(drop=True)\n",
        "  valid_df=marking[marking['fold']==CFG.fold].reset_index(drop=True)\n",
        "\n",
        "  print(train_df.head())"
      ],
      "execution_count": 3,
      "outputs": []
    },
    {
      "cell_type": "markdown",
      "metadata": {
        "id": "q0QPCsOI6W42"
      },
      "source": [
        "**Utility**"
      ]
    },
    {
      "cell_type": "code",
      "metadata": {
        "id": "vi19JTHB6a0Z"
      },
      "source": [
        "def gen_classes(CLASSES):\n",
        "    classes = list()      \n",
        "    \n",
        "    for i, CLASS in enumerate(CLASSES):\n",
        "        single_class = {} \n",
        "        single_class['id'] = i\n",
        "        single_class['name'] = CLASS\n",
        "        classes.append(single_class)\n",
        "    return classes\n",
        "\n",
        "def gen_objs(df, debug = False):\n",
        "    \n",
        "    if debug:\n",
        "        \n",
        "        df = df[:int(len(df)*0.05)]\n",
        "        \n",
        "    \n",
        "    img_lists = list(df['image_id'].unique())\n",
        "    imgs = list()\n",
        "    objs = list()   \n",
        "    \n",
        "    ## gen images information\n",
        "    for i in tqdm(range(len(img_lists))):\n",
        "        '''\n",
        "        \n",
        "        I just notice that all images were preprocessed image size 720x1280\n",
        "        If you want to check real image size, use this code below\n",
        "        \n",
        "        img = cv2.imread(os.path.join(data_path, img_lists[i]))\n",
        "        \n",
        "        single_img_obj = {}\n",
        "        single_img_obj['file_name'] = img_lists[i]\n",
        "        single_img_obj['height'] = img.shape[0]\n",
        "        single_img_obj['width'] = img.shape[1]\n",
        "        single_img_obj['id'] = i + 1\n",
        "        '''\n",
        "        \n",
        "        single_img_obj = {}\n",
        "        single_img_obj['file_name'] = img_lists[i] + '.png'\n",
        "        single_img_obj['height'] = CFG.dim \n",
        "        single_img_obj['width'] = CFG.dim\n",
        "        single_img_obj['id'] = i + 1        \n",
        "        \n",
        "        imgs.append(single_img_obj)\n",
        "        \n",
        "  \n",
        "    ## gen objs information    \n",
        "    for j in tqdm(range(len(df))):\n",
        "        single_obj = {}\n",
        "        single_obj['id'] = j + 1\n",
        "        single_obj['image_id'] = img_lists.index(df['image_id'][j]) + 1\n",
        "        single_obj['category_id'] = len(CFG.cls)-1\n",
        "        single_obj['area'] = float(df['w'][j]*df['h'][j])\n",
        "        single_obj['bbox'] = [int(df['x'][j]), int(df['y'][j]), int(df['w'][j]), int(df['h'][j])]\n",
        "        single_obj['iscrowd'] = 0        \n",
        "        \n",
        "        objs.append(single_obj)\n",
        "\n",
        "    print(f'images: {len(imgs)}, objs: {len(objs)}')\n",
        "    \n",
        "    return imgs, objs\n",
        "\n",
        "def gen_coco(outpath, classes, objs, imgs, train=True):\n",
        "    if train:\n",
        "        data_dict = {}\n",
        "        data_dict['images'] = []\n",
        "        data_dict['annotations'] = []\n",
        "        data_dict['categories'] = []\n",
        "        data_dict['images'].extend(imgs)\n",
        "        data_dict['annotations'].extend(objs)\n",
        "        data_dict['categories'].extend(classes)\n",
        "        \n",
        "    else:\n",
        "        data_dict = {}\n",
        "        data_dict['images'] = []\n",
        "        data_dict['categories'] = []\n",
        "        \n",
        "        data_dict['images'].extend(imgs)\n",
        "        data_dict['categories'].extend(classes)   \n",
        "\n",
        "    with open(outpath, 'w') as f_out:\n",
        "        json.dump(data_dict, f_out)"
      ],
      "execution_count": 4,
      "outputs": []
    },
    {
      "cell_type": "code",
      "metadata": {
        "colab": {
          "base_uri": "https://localhost:8080/"
        },
        "id": "cxhaifd650pL",
        "outputId": "37d18966-cd35-4ce9-caf4-becc170c2356"
      },
      "source": [
        "import json\n",
        "import copy\n",
        "\n",
        "cls=gen_classes(CFG.cls)\n",
        "print(cls)\n",
        "if CFG.generate_ann:\n",
        "  train_imgs, train_objs = gen_objs(train_df, CFG.debug)\n",
        "  valid_imgs, valid_objs = gen_objs(valid_df, CFG.debug)\n",
        "  gen_coco(CFG.prefix_ann+'train.json', cls, train_objs, train_imgs, train=True)\n",
        "  gen_coco(CFG.prefix_ann+'valid.json', cls, valid_objs, valid_imgs, train=True)"
      ],
      "execution_count": 5,
      "outputs": [
        {
          "output_type": "stream",
          "text": [
            "[{'id': 0, 'name': 'opacity'}]\n"
          ],
          "name": "stdout"
        }
      ]
    },
    {
      "cell_type": "code",
      "metadata": {
        "id": "4ZRR0Vqq0nDH"
      },
      "source": [
        "from mmcv import Config\n",
        "from mmdet.apis import set_random_seed\n",
        "from mmdet.datasets import build_dataset\n",
        "from mmdet.models import build_detector\n",
        "from mmdet.apis import train_detector, init_detector, inference_detector\n",
        "import torch \n",
        "\n",
        "cfg = Config.fromfile(CFG._base_)\n",
        "cfg.classes = CFG.cls"
      ],
      "execution_count": 6,
      "outputs": []
    },
    {
      "cell_type": "markdown",
      "metadata": {
        "id": "2I5DAwjwGnQF"
      },
      "source": [
        "**SET CONFIG**"
      ]
    },
    {
      "cell_type": "code",
      "metadata": {
        "id": "bWJJpgoel7Ux"
      },
      "source": [
        "cfg.dataset_type = 'CocoDataset'\n",
        "\n",
        "#TRAIN===============\n",
        "cfg.dataset_type = 'CocoDataset'\n",
        "cfg.data.train.ann_file = CFG.prefix_ann + 'train.json'\n",
        "cfg.data.train.img_prefix = CFG.prefix_img\n",
        "cfg.data.train.classes = cfg.classes\n",
        "\n",
        "#VAL===============\n",
        "cfg.dataset_type = 'CocoDataset'\n",
        "cfg.data.val.ann_file = CFG.prefix_ann + 'valid.json'\n",
        "cfg.data.val.img_prefix = CFG.prefix_img\n",
        "cfg.data.val.classes = cfg.classes\n",
        "\n",
        "#TEST===============\n",
        "cfg.dataset_type = 'CocoDataset'\n",
        "cfg.data.test.ann_file = CFG.prefix_ann + 'valid.json'\n",
        "cfg.data.test.img_prefix = CFG.prefix_img\n",
        "cfg.data.test.classes = cfg.classes\n",
        "\n",
        "\n",
        "# modify num classes of the model in box head===============\n",
        "\n",
        "#VfNet\n",
        "cfg.model.bbox_head.num_classes=CFG.n_classes\n",
        "\n",
        "#Cascade_Rcnn\n",
        "#cfg.model.roi_head.bbox_head[0].num_classes=CFG.n_classes\n",
        "#cfg.model.roi_head.bbox_head[1].num_classes=CFG.n_classes\n",
        "#cfg.model.roi_head.bbox_head[2].num_classes=CFG.n_classes\n",
        "\n",
        "\n",
        "# CheckPoint===============\n",
        "cfg.load_from = CFG.checkpoint\n",
        "\n",
        "\n",
        "#SEED===============\n",
        "cfg.seed = CFG.seed\n",
        "set_random_seed(0, deterministic=False)\n",
        "cfg.gpu_ids = range(1)\n",
        "\n",
        "\n",
        "#EPOCHS===============\n",
        "cfg.runner.max_epochs = CFG.epochs+1\n",
        "cfg.total_epochs = CFG.epochs+1\n",
        "\n",
        "\n",
        "# Set up working dir to save files and logs===============\n",
        "path = CFG.outdir + CFG._base_.split(\"/\")[-1] + f'-fold{CFG.fold}/'\n",
        "os.makedirs(path, exist_ok = True)\n",
        "cfg.work_dir = path\n",
        "\n",
        "\n",
        "# The original learning rate (LR) is set for 8-GPU training===============\n",
        "# We divide it by 8 since we only use one GPU===============\n",
        "cfg.optimizer.lr = CFG.lr\n",
        "cfg.lr_config = dict(\n",
        "    policy='CosineAnnealing',\n",
        "    warmup='linear',\n",
        "    warmup_iters=1000,\n",
        "    warmup_ratio=1.0 / 10,\n",
        "    min_lr_ratio=CFG.min_lr)\n",
        "\n",
        "\n",
        "# Change the evaluation metric since we use customized dataset===============\n",
        "cfg.evaluation.metric = 'bbox'\n",
        "\n",
        "\n",
        "# We can set the evaluation interval to reduce the evaluation times===============\n",
        "cfg.evaluation.interval = 2\n",
        "if CFG.debug:\n",
        "  cfg.evaluation.interval = 1\n",
        "\n",
        "\n",
        "# We can set the checkpoint saving interval to reduce the storage cost===============\n",
        "cfg.checkpoint_config.interval = 2\n",
        "if CFG.debug:\n",
        "  cfg.checkpoint_config.interval= 1\n",
        "\n",
        "\n",
        "#logging interval===============\n",
        "cfg.log_config.interval = 100\n",
        "if CFG.debug:\n",
        "  cfg.log_config.interval = 10\n",
        "\n",
        "\n",
        "# Set seed thus the results are more reproducible===============\n",
        "cfg.seed = CFG.seed\n",
        "set_random_seed(0, deterministic=False)\n",
        "cfg.gpu_ids = range(1)\n"
      ],
      "execution_count": 7,
      "outputs": []
    },
    {
      "cell_type": "markdown",
      "metadata": {
        "id": "UBdQ8tXFp-Dp"
      },
      "source": [
        "**AUGMENTATION**"
      ]
    },
    {
      "cell_type": "code",
      "metadata": {
        "id": "Yrv5aZSEz5ik"
      },
      "source": [
        "img_norm_cfg = dict(\n",
        "    mean=[0, 0, 0], std=[255.0, 255.0, 255.0], to_rgb=True)\n",
        "\n",
        "\n",
        "albu_train_transforms = [\n",
        "                         \n",
        "    dict(\n",
        "        type='RandomResizedCrop',\n",
        "        height=CFG.size,\n",
        "        width=CFG.size,\n",
        "        p=1),\n",
        "\n",
        "    dict(\n",
        "        type='RandomBrightnessContrast',\n",
        "        brightness_limit=0.2,\n",
        "        contrast_limit=0.2,\n",
        "      p=0.75),\n",
        "\n",
        "]\n",
        "\n",
        "\n",
        "train_pipeline_a = [\n",
        "    dict(type='LoadImageFromFile'),\n",
        "    dict(type='LoadAnnotations', with_bbox=True),\n",
        "    #dict(type='Resize', img_scale=(1333, 800), keep_ratio=True),\n",
        "    dict(type='RandomFlip', flip_ratio=0.5, direction='horizontal'),\n",
        "    dict(\n",
        "        type='Albu',\n",
        "        transforms=albu_train_transforms,\n",
        "        bbox_params=dict(\n",
        "            type='BboxParams',\n",
        "            format='coco',\n",
        "            label_fields=['gt_labels'],\n",
        "            min_visibility=0.0,\n",
        "            filter_lost_elements=True),\n",
        "        keymap={\n",
        "            'img': 'image',\n",
        "            'gt_masks': 'masks',\n",
        "            'gt_bboxes': 'bboxes'\n",
        "        },\n",
        "        update_pad_shape=False,\n",
        "        skip_img_without_anno=True),\n",
        "    dict(type='Normalize', **img_norm_cfg),\n",
        "    dict(type='Pad', size_divisor=32),\n",
        "    dict(type='ImageToTensor'),\n",
        "    dict(\n",
        "        type='Collect',\n",
        "        keys=['img', 'gt_bboxes', 'gt_labels', 'gt_masks'],\n",
        "        meta_keys=('filename', 'ori_shape', 'img_shape', 'img_norm_cfg',\n",
        "                   'pad_shape', 'scale_factor')),\n",
        "]\n",
        "\n",
        "\n",
        "train_pipeline_n = [\n",
        "    dict(type='LoadImageFromFile'),\n",
        "    dict(type='LoadAnnotations', with_bbox=True),\n",
        "    dict(type='Resize', img_scale=(CFG.size, CFG.size), keep_ratio=True),\n",
        "    dict(type='RandomFlip', flip_ratio=0.5, direction='horizontal'),\n",
        "    dict(type='Normalize', **img_norm_cfg),\n",
        "    dict(type='Pad', size_divisor=32),\n",
        "    dict(type='ImageToTensor'),\n",
        "    dict(type='Collect', keys=['img', 'gt_bboxes', 'gt_labels']),\n",
        "]"
      ],
      "execution_count": 8,
      "outputs": []
    },
    {
      "cell_type": "code",
      "metadata": {
        "id": "JDdng6C4GFi1"
      },
      "source": [
        "cfg.train_pipeline=train_pipeline_a\n",
        "\n",
        "cfg.test_pipeline = [\n",
        "    dict(type='LoadImageFromFile'),\n",
        "    dict(\n",
        "        type='MultiScaleFlipAug',\n",
        "        img_scale=(CFG.size, CFG.size),\n",
        "        flip=True,\n",
        "        transforms=[\n",
        "            dict(type='Resize', keep_ratio=True),\n",
        "            dict(type='RandomFlip', direction='horizontal'),\n",
        "            dict(type='Normalize', **img_norm_cfg),\n",
        "            dict(type='Pad', size_divisor=32),\n",
        "            dict(type='ImageToTensor', keys=['img']),\n",
        "            dict(type='Collect', keys=['img']),\n",
        "        ])\n",
        "]\n",
        "\n",
        "cfg.data.samples_per_gpu=CFG.batch_size\n",
        "cfg.data.workers_per_gpu=CFG.num_workers"
      ],
      "execution_count": 9,
      "outputs": []
    },
    {
      "cell_type": "code",
      "metadata": {
        "colab": {
          "base_uri": "https://localhost:8080/"
        },
        "id": "tD1newmzREwb",
        "outputId": "65cd9447-1600-4415-b5ca-98cb5adff0f5"
      },
      "source": [
        "print(f'Config: {cfg.pretty_text}')"
      ],
      "execution_count": 10,
      "outputs": [
        {
          "output_type": "stream",
          "text": [
            "Config: dataset_type = 'CocoDataset'\n",
            "data_root = 'data/coco/'\n",
            "img_norm_cfg = dict(\n",
            "    mean=[123.675, 116.28, 103.53], std=[58.395, 57.12, 57.375], to_rgb=True)\n",
            "train_pipeline = [\n",
            "    dict(type='LoadImageFromFile'),\n",
            "    dict(type='LoadAnnotations', with_bbox=True),\n",
            "    dict(type='RandomFlip', flip_ratio=0.5, direction='horizontal'),\n",
            "    dict(\n",
            "        type='Albu',\n",
            "        transforms=[\n",
            "            dict(type='RandomResizedCrop', height=640, width=640, p=1),\n",
            "            dict(\n",
            "                type='RandomBrightnessContrast',\n",
            "                brightness_limit=0.2,\n",
            "                contrast_limit=0.2,\n",
            "                p=0.75)\n",
            "        ],\n",
            "        bbox_params=dict(\n",
            "            type='BboxParams',\n",
            "            format='coco',\n",
            "            label_fields=['gt_labels'],\n",
            "            min_visibility=0.0,\n",
            "            filter_lost_elements=True),\n",
            "        keymap=dict(img='image', gt_masks='masks', gt_bboxes='bboxes'),\n",
            "        update_pad_shape=False,\n",
            "        skip_img_without_anno=True),\n",
            "    dict(\n",
            "        type='Normalize',\n",
            "        mean=[0, 0, 0],\n",
            "        std=[255.0, 255.0, 255.0],\n",
            "        to_rgb=True),\n",
            "    dict(type='Pad', size_divisor=32),\n",
            "    dict(type='ImageToTensor'),\n",
            "    dict(\n",
            "        type='Collect',\n",
            "        keys=['img', 'gt_bboxes', 'gt_labels', 'gt_masks'],\n",
            "        meta_keys=('filename', 'ori_shape', 'img_shape', 'img_norm_cfg',\n",
            "                   'pad_shape', 'scale_factor'))\n",
            "]\n",
            "test_pipeline = [\n",
            "    dict(type='LoadImageFromFile'),\n",
            "    dict(\n",
            "        type='MultiScaleFlipAug',\n",
            "        img_scale=(640, 640),\n",
            "        flip=True,\n",
            "        transforms=[\n",
            "            dict(type='Resize', keep_ratio=True),\n",
            "            dict(type='RandomFlip', direction='horizontal'),\n",
            "            dict(\n",
            "                type='Normalize',\n",
            "                mean=[0, 0, 0],\n",
            "                std=[255.0, 255.0, 255.0],\n",
            "                to_rgb=True),\n",
            "            dict(type='Pad', size_divisor=32),\n",
            "            dict(type='ImageToTensor', keys=['img']),\n",
            "            dict(type='Collect', keys=['img'])\n",
            "        ])\n",
            "]\n",
            "data = dict(\n",
            "    samples_per_gpu=4,\n",
            "    workers_per_gpu=4,\n",
            "    train=dict(\n",
            "        type='CocoDataset',\n",
            "        ann_file='/content/gdrive/MyDrive/kaggle/COVID_annotaions/train.json',\n",
            "        img_prefix='/content/train/images/',\n",
            "        pipeline=[\n",
            "            dict(type='LoadImageFromFile'),\n",
            "            dict(type='LoadAnnotations', with_bbox=True),\n",
            "            dict(\n",
            "                type='Resize',\n",
            "                img_scale=[(1333, 480), (1333, 960)],\n",
            "                multiscale_mode='range',\n",
            "                keep_ratio=True),\n",
            "            dict(type='RandomFlip', flip_ratio=0.5),\n",
            "            dict(\n",
            "                type='Normalize',\n",
            "                mean=[123.675, 116.28, 103.53],\n",
            "                std=[58.395, 57.12, 57.375],\n",
            "                to_rgb=True),\n",
            "            dict(type='Pad', size_divisor=32),\n",
            "            dict(type='DefaultFormatBundle'),\n",
            "            dict(type='Collect', keys=['img', 'gt_bboxes', 'gt_labels'])\n",
            "        ],\n",
            "        classes=['opacity']),\n",
            "    val=dict(\n",
            "        type='CocoDataset',\n",
            "        ann_file='/content/gdrive/MyDrive/kaggle/COVID_annotaions/valid.json',\n",
            "        img_prefix='/content/train/images/',\n",
            "        pipeline=[\n",
            "            dict(type='LoadImageFromFile'),\n",
            "            dict(\n",
            "                type='MultiScaleFlipAug',\n",
            "                img_scale=(1333, 800),\n",
            "                flip=False,\n",
            "                transforms=[\n",
            "                    dict(type='Resize', keep_ratio=True),\n",
            "                    dict(type='RandomFlip'),\n",
            "                    dict(\n",
            "                        type='Normalize',\n",
            "                        mean=[123.675, 116.28, 103.53],\n",
            "                        std=[58.395, 57.12, 57.375],\n",
            "                        to_rgb=True),\n",
            "                    dict(type='Pad', size_divisor=32),\n",
            "                    dict(type='DefaultFormatBundle'),\n",
            "                    dict(type='Collect', keys=['img'])\n",
            "                ])\n",
            "        ],\n",
            "        classes=['opacity']),\n",
            "    test=dict(\n",
            "        type='CocoDataset',\n",
            "        ann_file='/content/gdrive/MyDrive/kaggle/COVID_annotaions/valid.json',\n",
            "        img_prefix='/content/train/images/',\n",
            "        pipeline=[\n",
            "            dict(type='LoadImageFromFile'),\n",
            "            dict(\n",
            "                type='MultiScaleFlipAug',\n",
            "                img_scale=(1333, 800),\n",
            "                flip=False,\n",
            "                transforms=[\n",
            "                    dict(type='Resize', keep_ratio=True),\n",
            "                    dict(type='RandomFlip'),\n",
            "                    dict(\n",
            "                        type='Normalize',\n",
            "                        mean=[123.675, 116.28, 103.53],\n",
            "                        std=[58.395, 57.12, 57.375],\n",
            "                        to_rgb=True),\n",
            "                    dict(type='Pad', size_divisor=32),\n",
            "                    dict(type='DefaultFormatBundle'),\n",
            "                    dict(type='Collect', keys=['img'])\n",
            "                ])\n",
            "        ],\n",
            "        classes=['opacity']))\n",
            "evaluation = dict(interval=2, metric='bbox')\n",
            "optimizer = dict(\n",
            "    type='SGD',\n",
            "    lr=0.0003,\n",
            "    momentum=0.9,\n",
            "    weight_decay=0.0001,\n",
            "    paramwise_cfg=dict(bias_lr_mult=2.0, bias_decay_mult=0.0))\n",
            "optimizer_config = dict(grad_clip=None)\n",
            "lr_config = dict(\n",
            "    policy='CosineAnnealing',\n",
            "    warmup='linear',\n",
            "    warmup_iters=1000,\n",
            "    warmup_ratio=0.1,\n",
            "    min_lr_ratio=3e-05)\n",
            "runner = dict(type='EpochBasedRunner', max_epochs=16)\n",
            "checkpoint_config = dict(interval=2)\n",
            "log_config = dict(interval=100, hooks=[dict(type='TextLoggerHook')])\n",
            "custom_hooks = [dict(type='NumClassCheckHook')]\n",
            "dist_params = dict(backend='nccl')\n",
            "log_level = 'INFO'\n",
            "load_from = 'https://openmmlab.oss-cn-hangzhou.aliyuncs.com/mmdetection/v2.0/vfnet/vfnet_r101_fpn_mdconv_c3-c5_mstrain_2x_coco/vfnet_r101_fpn_mdconv_c3-c5_mstrain_2x_coco_20201027pth-7729adb5.pth'\n",
            "resume_from = None\n",
            "workflow = [('train', 1)]\n",
            "model = dict(\n",
            "    type='VFNet',\n",
            "    backbone=dict(\n",
            "        type='ResNet',\n",
            "        depth=50,\n",
            "        num_stages=4,\n",
            "        out_indices=(0, 1, 2, 3),\n",
            "        frozen_stages=1,\n",
            "        norm_cfg=dict(type='BN', requires_grad=True),\n",
            "        norm_eval=True,\n",
            "        style='pytorch',\n",
            "        init_cfg=dict(type='Pretrained', checkpoint='torchvision://resnet50'),\n",
            "        dcn=dict(type='DCNv2', deform_groups=1, fallback_on_stride=False),\n",
            "        stage_with_dcn=(False, True, True, True)),\n",
            "    neck=dict(\n",
            "        type='FPN',\n",
            "        in_channels=[256, 512, 1024, 2048],\n",
            "        out_channels=256,\n",
            "        start_level=1,\n",
            "        add_extra_convs='on_output',\n",
            "        num_outs=5,\n",
            "        relu_before_extra_convs=True),\n",
            "    bbox_head=dict(\n",
            "        type='VFNetHead',\n",
            "        num_classes=1,\n",
            "        in_channels=256,\n",
            "        stacked_convs=3,\n",
            "        feat_channels=256,\n",
            "        strides=[8, 16, 32, 64, 128],\n",
            "        center_sampling=False,\n",
            "        dcn_on_last_conv=True,\n",
            "        use_atss=True,\n",
            "        use_vfl=True,\n",
            "        loss_cls=dict(\n",
            "            type='VarifocalLoss',\n",
            "            use_sigmoid=True,\n",
            "            alpha=0.75,\n",
            "            gamma=2.0,\n",
            "            iou_weighted=True,\n",
            "            loss_weight=1.0),\n",
            "        loss_bbox=dict(type='GIoULoss', loss_weight=1.5),\n",
            "        loss_bbox_refine=dict(type='GIoULoss', loss_weight=2.0)),\n",
            "    train_cfg=dict(\n",
            "        assigner=dict(type='ATSSAssigner', topk=9),\n",
            "        allowed_border=-1,\n",
            "        pos_weight=-1,\n",
            "        debug=False),\n",
            "    test_cfg=dict(\n",
            "        nms_pre=1000,\n",
            "        min_bbox_size=0,\n",
            "        score_thr=0.05,\n",
            "        nms=dict(type='nms', iou_threshold=0.6),\n",
            "        max_per_img=100))\n",
            "classes = ['opacity']\n",
            "seed = 42\n",
            "gpu_ids = range(0, 1)\n",
            "total_epochs = 16\n",
            "work_dir = '/content/gdrive/MyDrive/kaggle/vfnet_r50_fpn_mdconv_c3-c5_mstrain_2x_coco.py-fold0/'\n",
            "\n"
          ],
          "name": "stdout"
        }
      ]
    },
    {
      "cell_type": "code",
      "metadata": {
        "colab": {
          "base_uri": "https://localhost:8080/"
        },
        "id": "W42L0caQMBIp",
        "outputId": "46e4c1b8-f65e-4212-9f02-4f7f8a446bcd"
      },
      "source": [
        "model = build_detector(cfg.model)\n",
        "datasets = [build_dataset(cfg.data.train)]"
      ],
      "execution_count": 11,
      "outputs": [
        {
          "output_type": "stream",
          "text": [
            "loading annotations into memory...\n",
            "Done (t=0.02s)\n",
            "creating index...\n",
            "index created!\n"
          ],
          "name": "stdout"
        },
        {
          "output_type": "stream",
          "text": [
            "/content/mmdetection/mmdet/core/anchor/builder.py:16: UserWarning: ``build_anchor_generator`` would be deprecated soon, please use ``build_prior_generator`` \n",
            "  '``build_anchor_generator`` would be deprecated soon, please use '\n"
          ],
          "name": "stderr"
        }
      ]
    },
    {
      "cell_type": "code",
      "metadata": {
        "colab": {
          "base_uri": "https://localhost:8080/",
          "height": 1000,
          "referenced_widgets": [
            "e8c6eea394564e2fb334bf487da1366f",
            "2e987c3f72404b95ac923c7538f4897f",
            "ab2d6fbe041140f9b58ff2b838a3567b",
            "c753940e236848e8b150c00b3a8e8e16",
            "f77b127cbefb48a9b257c68b07b7b438",
            "9280f283a5374dc996d2ec6d04c64fce",
            "e27b0b128b8b4ba1be9f9ba98c7d2451",
            "7b76540ed19f432d9091425edf35d6ac"
          ]
        },
        "id": "2cJFsvlTOt_V",
        "outputId": "a37ddabc-15f9-40e8-d115-7db15eb11acb"
      },
      "source": [
        "train_detector(model, datasets, cfg, distributed=False, validate=True)"
      ],
      "execution_count": null,
      "outputs": [
        {
          "output_type": "stream",
          "text": [
            "2021-07-15 14:03:48,897 - mmdet - INFO - load checkpoint from https://openmmlab.oss-cn-hangzhou.aliyuncs.com/mmdetection/v2.0/vfnet/vfnet_r101_fpn_mdconv_c3-c5_mstrain_2x_coco/vfnet_r101_fpn_mdconv_c3-c5_mstrain_2x_coco_20201027pth-7729adb5.pth\n",
            "2021-07-15 14:03:48,899 - mmdet - INFO - Use load_from_http loader\n"
          ],
          "name": "stderr"
        },
        {
          "output_type": "stream",
          "text": [
            "loading annotations into memory...\n",
            "Done (t=0.01s)\n",
            "creating index...\n",
            "index created!\n"
          ],
          "name": "stdout"
        },
        {
          "output_type": "stream",
          "text": [
            "Downloading: \"https://openmmlab.oss-cn-hangzhou.aliyuncs.com/mmdetection/v2.0/vfnet/vfnet_r101_fpn_mdconv_c3-c5_mstrain_2x_coco/vfnet_r101_fpn_mdconv_c3-c5_mstrain_2x_coco_20201027pth-7729adb5.pth\" to /root/.cache/torch/hub/checkpoints/vfnet_r101_fpn_mdconv_c3-c5_mstrain_2x_coco_20201027pth-7729adb5.pth\n"
          ],
          "name": "stderr"
        },
        {
          "output_type": "display_data",
          "data": {
            "application/vnd.jupyter.widget-view+json": {
              "model_id": "e8c6eea394564e2fb334bf487da1366f",
              "version_major": 2,
              "version_minor": 0
            },
            "text/plain": [
              "HBox(children=(FloatProgress(value=0.0, max=216416078.0), HTML(value='')))"
            ]
          },
          "metadata": {
            "tags": []
          }
        },
        {
          "output_type": "stream",
          "text": [
            "\n"
          ],
          "name": "stdout"
        },
        {
          "output_type": "stream",
          "text": [
            "2021-07-15 14:06:39,579 - mmdet - WARNING - The model and loaded state dict do not match exactly\n",
            "\n",
            "size mismatch for bbox_head.vfnet_cls.weight: copying a param with shape torch.Size([80, 256, 3, 3]) from checkpoint, the shape in current model is torch.Size([1, 256, 3, 3]).\n",
            "size mismatch for bbox_head.vfnet_cls.bias: copying a param with shape torch.Size([80]) from checkpoint, the shape in current model is torch.Size([1]).\n",
            "unexpected key in source state_dict: backbone.layer3.6.conv1.weight, backbone.layer3.6.bn1.weight, backbone.layer3.6.bn1.bias, backbone.layer3.6.bn1.running_mean, backbone.layer3.6.bn1.running_var, backbone.layer3.6.bn1.num_batches_tracked, backbone.layer3.6.conv2.weight, backbone.layer3.6.conv2.conv_offset.weight, backbone.layer3.6.conv2.conv_offset.bias, backbone.layer3.6.bn2.weight, backbone.layer3.6.bn2.bias, backbone.layer3.6.bn2.running_mean, backbone.layer3.6.bn2.running_var, backbone.layer3.6.bn2.num_batches_tracked, backbone.layer3.6.conv3.weight, backbone.layer3.6.bn3.weight, backbone.layer3.6.bn3.bias, backbone.layer3.6.bn3.running_mean, backbone.layer3.6.bn3.running_var, backbone.layer3.6.bn3.num_batches_tracked, backbone.layer3.7.conv1.weight, backbone.layer3.7.bn1.weight, backbone.layer3.7.bn1.bias, backbone.layer3.7.bn1.running_mean, backbone.layer3.7.bn1.running_var, backbone.layer3.7.bn1.num_batches_tracked, backbone.layer3.7.conv2.weight, backbone.layer3.7.conv2.conv_offset.weight, backbone.layer3.7.conv2.conv_offset.bias, backbone.layer3.7.bn2.weight, backbone.layer3.7.bn2.bias, backbone.layer3.7.bn2.running_mean, backbone.layer3.7.bn2.running_var, backbone.layer3.7.bn2.num_batches_tracked, backbone.layer3.7.conv3.weight, backbone.layer3.7.bn3.weight, backbone.layer3.7.bn3.bias, backbone.layer3.7.bn3.running_mean, backbone.layer3.7.bn3.running_var, backbone.layer3.7.bn3.num_batches_tracked, backbone.layer3.8.conv1.weight, backbone.layer3.8.bn1.weight, backbone.layer3.8.bn1.bias, backbone.layer3.8.bn1.running_mean, backbone.layer3.8.bn1.running_var, backbone.layer3.8.bn1.num_batches_tracked, backbone.layer3.8.conv2.weight, backbone.layer3.8.conv2.conv_offset.weight, backbone.layer3.8.conv2.conv_offset.bias, backbone.layer3.8.bn2.weight, backbone.layer3.8.bn2.bias, backbone.layer3.8.bn2.running_mean, backbone.layer3.8.bn2.running_var, backbone.layer3.8.bn2.num_batches_tracked, backbone.layer3.8.conv3.weight, backbone.layer3.8.bn3.weight, backbone.layer3.8.bn3.bias, backbone.layer3.8.bn3.running_mean, backbone.layer3.8.bn3.running_var, backbone.layer3.8.bn3.num_batches_tracked, backbone.layer3.9.conv1.weight, backbone.layer3.9.bn1.weight, backbone.layer3.9.bn1.bias, backbone.layer3.9.bn1.running_mean, backbone.layer3.9.bn1.running_var, backbone.layer3.9.bn1.num_batches_tracked, backbone.layer3.9.conv2.weight, backbone.layer3.9.conv2.conv_offset.weight, backbone.layer3.9.conv2.conv_offset.bias, backbone.layer3.9.bn2.weight, backbone.layer3.9.bn2.bias, backbone.layer3.9.bn2.running_mean, backbone.layer3.9.bn2.running_var, backbone.layer3.9.bn2.num_batches_tracked, backbone.layer3.9.conv3.weight, backbone.layer3.9.bn3.weight, backbone.layer3.9.bn3.bias, backbone.layer3.9.bn3.running_mean, backbone.layer3.9.bn3.running_var, backbone.layer3.9.bn3.num_batches_tracked, backbone.layer3.10.conv1.weight, backbone.layer3.10.bn1.weight, backbone.layer3.10.bn1.bias, backbone.layer3.10.bn1.running_mean, backbone.layer3.10.bn1.running_var, backbone.layer3.10.bn1.num_batches_tracked, backbone.layer3.10.conv2.weight, backbone.layer3.10.conv2.conv_offset.weight, backbone.layer3.10.conv2.conv_offset.bias, backbone.layer3.10.bn2.weight, backbone.layer3.10.bn2.bias, backbone.layer3.10.bn2.running_mean, backbone.layer3.10.bn2.running_var, backbone.layer3.10.bn2.num_batches_tracked, backbone.layer3.10.conv3.weight, backbone.layer3.10.bn3.weight, backbone.layer3.10.bn3.bias, backbone.layer3.10.bn3.running_mean, backbone.layer3.10.bn3.running_var, backbone.layer3.10.bn3.num_batches_tracked, backbone.layer3.11.conv1.weight, backbone.layer3.11.bn1.weight, backbone.layer3.11.bn1.bias, backbone.layer3.11.bn1.running_mean, backbone.layer3.11.bn1.running_var, backbone.layer3.11.bn1.num_batches_tracked, backbone.layer3.11.conv2.weight, backbone.layer3.11.conv2.conv_offset.weight, backbone.layer3.11.conv2.conv_offset.bias, backbone.layer3.11.bn2.weight, backbone.layer3.11.bn2.bias, backbone.layer3.11.bn2.running_mean, backbone.layer3.11.bn2.running_var, backbone.layer3.11.bn2.num_batches_tracked, backbone.layer3.11.conv3.weight, backbone.layer3.11.bn3.weight, backbone.layer3.11.bn3.bias, backbone.layer3.11.bn3.running_mean, backbone.layer3.11.bn3.running_var, backbone.layer3.11.bn3.num_batches_tracked, backbone.layer3.12.conv1.weight, backbone.layer3.12.bn1.weight, backbone.layer3.12.bn1.bias, backbone.layer3.12.bn1.running_mean, backbone.layer3.12.bn1.running_var, backbone.layer3.12.bn1.num_batches_tracked, backbone.layer3.12.conv2.weight, backbone.layer3.12.conv2.conv_offset.weight, backbone.layer3.12.conv2.conv_offset.bias, backbone.layer3.12.bn2.weight, backbone.layer3.12.bn2.bias, backbone.layer3.12.bn2.running_mean, backbone.layer3.12.bn2.running_var, backbone.layer3.12.bn2.num_batches_tracked, backbone.layer3.12.conv3.weight, backbone.layer3.12.bn3.weight, backbone.layer3.12.bn3.bias, backbone.layer3.12.bn3.running_mean, backbone.layer3.12.bn3.running_var, backbone.layer3.12.bn3.num_batches_tracked, backbone.layer3.13.conv1.weight, backbone.layer3.13.bn1.weight, backbone.layer3.13.bn1.bias, backbone.layer3.13.bn1.running_mean, backbone.layer3.13.bn1.running_var, backbone.layer3.13.bn1.num_batches_tracked, backbone.layer3.13.conv2.weight, backbone.layer3.13.conv2.conv_offset.weight, backbone.layer3.13.conv2.conv_offset.bias, backbone.layer3.13.bn2.weight, backbone.layer3.13.bn2.bias, backbone.layer3.13.bn2.running_mean, backbone.layer3.13.bn2.running_var, backbone.layer3.13.bn2.num_batches_tracked, backbone.layer3.13.conv3.weight, backbone.layer3.13.bn3.weight, backbone.layer3.13.bn3.bias, backbone.layer3.13.bn3.running_mean, backbone.layer3.13.bn3.running_var, backbone.layer3.13.bn3.num_batches_tracked, backbone.layer3.14.conv1.weight, backbone.layer3.14.bn1.weight, backbone.layer3.14.bn1.bias, backbone.layer3.14.bn1.running_mean, backbone.layer3.14.bn1.running_var, backbone.layer3.14.bn1.num_batches_tracked, backbone.layer3.14.conv2.weight, backbone.layer3.14.conv2.conv_offset.weight, backbone.layer3.14.conv2.conv_offset.bias, backbone.layer3.14.bn2.weight, backbone.layer3.14.bn2.bias, backbone.layer3.14.bn2.running_mean, backbone.layer3.14.bn2.running_var, backbone.layer3.14.bn2.num_batches_tracked, backbone.layer3.14.conv3.weight, backbone.layer3.14.bn3.weight, backbone.layer3.14.bn3.bias, backbone.layer3.14.bn3.running_mean, backbone.layer3.14.bn3.running_var, backbone.layer3.14.bn3.num_batches_tracked, backbone.layer3.15.conv1.weight, backbone.layer3.15.bn1.weight, backbone.layer3.15.bn1.bias, backbone.layer3.15.bn1.running_mean, backbone.layer3.15.bn1.running_var, backbone.layer3.15.bn1.num_batches_tracked, backbone.layer3.15.conv2.weight, backbone.layer3.15.conv2.conv_offset.weight, backbone.layer3.15.conv2.conv_offset.bias, backbone.layer3.15.bn2.weight, backbone.layer3.15.bn2.bias, backbone.layer3.15.bn2.running_mean, backbone.layer3.15.bn2.running_var, backbone.layer3.15.bn2.num_batches_tracked, backbone.layer3.15.conv3.weight, backbone.layer3.15.bn3.weight, backbone.layer3.15.bn3.bias, backbone.layer3.15.bn3.running_mean, backbone.layer3.15.bn3.running_var, backbone.layer3.15.bn3.num_batches_tracked, backbone.layer3.16.conv1.weight, backbone.layer3.16.bn1.weight, backbone.layer3.16.bn1.bias, backbone.layer3.16.bn1.running_mean, backbone.layer3.16.bn1.running_var, backbone.layer3.16.bn1.num_batches_tracked, backbone.layer3.16.conv2.weight, backbone.layer3.16.conv2.conv_offset.weight, backbone.layer3.16.conv2.conv_offset.bias, backbone.layer3.16.bn2.weight, backbone.layer3.16.bn2.bias, backbone.layer3.16.bn2.running_mean, backbone.layer3.16.bn2.running_var, backbone.layer3.16.bn2.num_batches_tracked, backbone.layer3.16.conv3.weight, backbone.layer3.16.bn3.weight, backbone.layer3.16.bn3.bias, backbone.layer3.16.bn3.running_mean, backbone.layer3.16.bn3.running_var, backbone.layer3.16.bn3.num_batches_tracked, backbone.layer3.17.conv1.weight, backbone.layer3.17.bn1.weight, backbone.layer3.17.bn1.bias, backbone.layer3.17.bn1.running_mean, backbone.layer3.17.bn1.running_var, backbone.layer3.17.bn1.num_batches_tracked, backbone.layer3.17.conv2.weight, backbone.layer3.17.conv2.conv_offset.weight, backbone.layer3.17.conv2.conv_offset.bias, backbone.layer3.17.bn2.weight, backbone.layer3.17.bn2.bias, backbone.layer3.17.bn2.running_mean, backbone.layer3.17.bn2.running_var, backbone.layer3.17.bn2.num_batches_tracked, backbone.layer3.17.conv3.weight, backbone.layer3.17.bn3.weight, backbone.layer3.17.bn3.bias, backbone.layer3.17.bn3.running_mean, backbone.layer3.17.bn3.running_var, backbone.layer3.17.bn3.num_batches_tracked, backbone.layer3.18.conv1.weight, backbone.layer3.18.bn1.weight, backbone.layer3.18.bn1.bias, backbone.layer3.18.bn1.running_mean, backbone.layer3.18.bn1.running_var, backbone.layer3.18.bn1.num_batches_tracked, backbone.layer3.18.conv2.weight, backbone.layer3.18.conv2.conv_offset.weight, backbone.layer3.18.conv2.conv_offset.bias, backbone.layer3.18.bn2.weight, backbone.layer3.18.bn2.bias, backbone.layer3.18.bn2.running_mean, backbone.layer3.18.bn2.running_var, backbone.layer3.18.bn2.num_batches_tracked, backbone.layer3.18.conv3.weight, backbone.layer3.18.bn3.weight, backbone.layer3.18.bn3.bias, backbone.layer3.18.bn3.running_mean, backbone.layer3.18.bn3.running_var, backbone.layer3.18.bn3.num_batches_tracked, backbone.layer3.19.conv1.weight, backbone.layer3.19.bn1.weight, backbone.layer3.19.bn1.bias, backbone.layer3.19.bn1.running_mean, backbone.layer3.19.bn1.running_var, backbone.layer3.19.bn1.num_batches_tracked, backbone.layer3.19.conv2.weight, backbone.layer3.19.conv2.conv_offset.weight, backbone.layer3.19.conv2.conv_offset.bias, backbone.layer3.19.bn2.weight, backbone.layer3.19.bn2.bias, backbone.layer3.19.bn2.running_mean, backbone.layer3.19.bn2.running_var, backbone.layer3.19.bn2.num_batches_tracked, backbone.layer3.19.conv3.weight, backbone.layer3.19.bn3.weight, backbone.layer3.19.bn3.bias, backbone.layer3.19.bn3.running_mean, backbone.layer3.19.bn3.running_var, backbone.layer3.19.bn3.num_batches_tracked, backbone.layer3.20.conv1.weight, backbone.layer3.20.bn1.weight, backbone.layer3.20.bn1.bias, backbone.layer3.20.bn1.running_mean, backbone.layer3.20.bn1.running_var, backbone.layer3.20.bn1.num_batches_tracked, backbone.layer3.20.conv2.weight, backbone.layer3.20.conv2.conv_offset.weight, backbone.layer3.20.conv2.conv_offset.bias, backbone.layer3.20.bn2.weight, backbone.layer3.20.bn2.bias, backbone.layer3.20.bn2.running_mean, backbone.layer3.20.bn2.running_var, backbone.layer3.20.bn2.num_batches_tracked, backbone.layer3.20.conv3.weight, backbone.layer3.20.bn3.weight, backbone.layer3.20.bn3.bias, backbone.layer3.20.bn3.running_mean, backbone.layer3.20.bn3.running_var, backbone.layer3.20.bn3.num_batches_tracked, backbone.layer3.21.conv1.weight, backbone.layer3.21.bn1.weight, backbone.layer3.21.bn1.bias, backbone.layer3.21.bn1.running_mean, backbone.layer3.21.bn1.running_var, backbone.layer3.21.bn1.num_batches_tracked, backbone.layer3.21.conv2.weight, backbone.layer3.21.conv2.conv_offset.weight, backbone.layer3.21.conv2.conv_offset.bias, backbone.layer3.21.bn2.weight, backbone.layer3.21.bn2.bias, backbone.layer3.21.bn2.running_mean, backbone.layer3.21.bn2.running_var, backbone.layer3.21.bn2.num_batches_tracked, backbone.layer3.21.conv3.weight, backbone.layer3.21.bn3.weight, backbone.layer3.21.bn3.bias, backbone.layer3.21.bn3.running_mean, backbone.layer3.21.bn3.running_var, backbone.layer3.21.bn3.num_batches_tracked, backbone.layer3.22.conv1.weight, backbone.layer3.22.bn1.weight, backbone.layer3.22.bn1.bias, backbone.layer3.22.bn1.running_mean, backbone.layer3.22.bn1.running_var, backbone.layer3.22.bn1.num_batches_tracked, backbone.layer3.22.conv2.weight, backbone.layer3.22.conv2.conv_offset.weight, backbone.layer3.22.conv2.conv_offset.bias, backbone.layer3.22.bn2.weight, backbone.layer3.22.bn2.bias, backbone.layer3.22.bn2.running_mean, backbone.layer3.22.bn2.running_var, backbone.layer3.22.bn2.num_batches_tracked, backbone.layer3.22.conv3.weight, backbone.layer3.22.bn3.weight, backbone.layer3.22.bn3.bias, backbone.layer3.22.bn3.running_mean, backbone.layer3.22.bn3.running_var, backbone.layer3.22.bn3.num_batches_tracked\n",
            "\n",
            "2021-07-15 14:06:39,594 - mmdet - INFO - Start running, host: root@e5e44a0e7aa8, work_dir: /content/gdrive/MyDrive/kaggle/vfnet_r50_fpn_mdconv_c3-c5_mstrain_2x_coco.py-fold0\n",
            "2021-07-15 14:06:39,596 - mmdet - INFO - Hooks will be executed in the following order:\n",
            "before_run:\n",
            "(VERY_HIGH   ) CosineAnnealingLrUpdaterHook       \n",
            "(NORMAL      ) CheckpointHook                     \n",
            "(NORMAL      ) EvalHook                           \n",
            "(VERY_LOW    ) TextLoggerHook                     \n",
            " -------------------- \n",
            "before_train_epoch:\n",
            "(VERY_HIGH   ) CosineAnnealingLrUpdaterHook       \n",
            "(NORMAL      ) EvalHook                           \n",
            "(NORMAL      ) NumClassCheckHook                  \n",
            "(LOW         ) IterTimerHook                      \n",
            "(VERY_LOW    ) TextLoggerHook                     \n",
            " -------------------- \n",
            "before_train_iter:\n",
            "(VERY_HIGH   ) CosineAnnealingLrUpdaterHook       \n",
            "(NORMAL      ) EvalHook                           \n",
            "(LOW         ) IterTimerHook                      \n",
            " -------------------- \n",
            "after_train_iter:\n",
            "(ABOVE_NORMAL) OptimizerHook                      \n",
            "(NORMAL      ) CheckpointHook                     \n",
            "(NORMAL      ) EvalHook                           \n",
            "(LOW         ) IterTimerHook                      \n",
            "(VERY_LOW    ) TextLoggerHook                     \n",
            " -------------------- \n",
            "after_train_epoch:\n",
            "(NORMAL      ) CheckpointHook                     \n",
            "(NORMAL      ) EvalHook                           \n",
            "(VERY_LOW    ) TextLoggerHook                     \n",
            " -------------------- \n",
            "before_val_epoch:\n",
            "(NORMAL      ) NumClassCheckHook                  \n",
            "(LOW         ) IterTimerHook                      \n",
            "(VERY_LOW    ) TextLoggerHook                     \n",
            " -------------------- \n",
            "before_val_iter:\n",
            "(LOW         ) IterTimerHook                      \n",
            " -------------------- \n",
            "after_val_iter:\n",
            "(LOW         ) IterTimerHook                      \n",
            " -------------------- \n",
            "after_val_epoch:\n",
            "(VERY_LOW    ) TextLoggerHook                     \n",
            " -------------------- \n",
            "2021-07-15 14:06:39,599 - mmdet - INFO - workflow: [('train', 1)], max: 16 epochs\n",
            "/usr/local/lib/python3.7/dist-packages/torch/nn/functional.py:718: UserWarning: Named tensors and all their associated APIs are an experimental feature and subject to change. Please do not use them for anything important until they are released as stable. (Triggered internally at  /pytorch/c10/core/TensorImpl.h:1156.)\n",
            "  return torch.max_pool2d(input, kernel_size, stride, padding, dilation, ceil_mode)\n",
            "/content/mmdetection/mmdet/core/anchor/anchor_generator.py:323: UserWarning: ``grid_anchors`` would be deprecated soon. Please use ``grid_priors`` \n",
            "  warnings.warn('``grid_anchors`` would be deprecated soon. '\n",
            "/content/mmdetection/mmdet/core/anchor/anchor_generator.py:360: UserWarning: ``single_level_grid_anchors`` would be deprecated soon. Please use ``single_level_grid_priors`` \n",
            "  '``single_level_grid_anchors`` would be deprecated soon. '\n",
            "2021-07-15 14:08:52,995 - mmdet - INFO - Epoch [1][100/664]\tlr: 5.673e-05, eta: 3:53:42, time: 1.332, data_time: 0.036, memory: 5552, loss_cls: 2.0465, loss_bbox: 0.6375, loss_bbox_rf: 0.8525, loss: 3.5364\n",
            "2021-07-15 14:11:07,309 - mmdet - INFO - Epoch [1][200/664]\tlr: 8.373e-05, eta: 3:52:23, time: 1.343, data_time: 0.013, memory: 5552, loss_cls: 0.9100, loss_bbox: 0.5380, loss_bbox_rf: 0.7186, loss: 2.1666\n",
            "2021-07-15 14:13:19,233 - mmdet - INFO - Epoch [1][300/664]\tlr: 1.107e-04, eta: 3:49:07, time: 1.319, data_time: 0.013, memory: 5552, loss_cls: 0.8856, loss_bbox: 0.5165, loss_bbox_rf: 0.6888, loss: 2.0909\n",
            "2021-07-15 14:15:30,768 - mmdet - INFO - Epoch [1][400/664]\tlr: 1.377e-04, eta: 3:46:11, time: 1.315, data_time: 0.013, memory: 5552, loss_cls: 0.8744, loss_bbox: 0.4978, loss_bbox_rf: 0.6653, loss: 2.0375\n",
            "2021-07-15 14:17:40,382 - mmdet - INFO - Epoch [1][500/664]\tlr: 1.647e-04, eta: 3:42:56, time: 1.296, data_time: 0.014, memory: 5552, loss_cls: 0.8776, loss_bbox: 0.4959, loss_bbox_rf: 0.6616, loss: 2.0351\n",
            "2021-07-15 14:19:51,690 - mmdet - INFO - Epoch [1][600/664]\tlr: 1.917e-04, eta: 3:40:30, time: 1.313, data_time: 0.014, memory: 5552, loss_cls: 0.8544, loss_bbox: 0.4865, loss_bbox_rf: 0.6477, loss: 1.9886\n",
            "2021-07-15 14:23:27,400 - mmdet - INFO - Epoch [2][100/664]\tlr: 2.337e-04, eta: 3:18:59, time: 1.332, data_time: 0.036, memory: 5552, loss_cls: 0.8624, loss_bbox: 0.4825, loss_bbox_rf: 0.6439, loss: 1.9889\n",
            "2021-07-15 14:25:41,618 - mmdet - INFO - Epoch [2][200/664]\tlr: 2.605e-04, eta: 3:19:26, time: 1.342, data_time: 0.014, memory: 5552, loss_cls: 0.8592, loss_bbox: 0.4758, loss_bbox_rf: 0.6349, loss: 1.9698\n",
            "2021-07-15 14:27:53,463 - mmdet - INFO - Epoch [2][300/664]\tlr: 2.872e-04, eta: 3:18:56, time: 1.319, data_time: 0.014, memory: 5552, loss_cls: 0.8486, loss_bbox: 0.4875, loss_bbox_rf: 0.6501, loss: 1.9862\n",
            "2021-07-15 14:30:04,946 - mmdet - INFO - Epoch [2][400/664]\tlr: 2.971e-04, eta: 3:18:03, time: 1.314, data_time: 0.013, memory: 5552, loss_cls: 0.8600, loss_bbox: 0.4835, loss_bbox_rf: 0.6448, loss: 1.9882\n",
            "2021-07-15 14:32:14,462 - mmdet - INFO - Epoch [2][500/664]\tlr: 2.971e-04, eta: 3:16:42, time: 1.295, data_time: 0.013, memory: 5552, loss_cls: 0.8566, loss_bbox: 0.4642, loss_bbox_rf: 0.6189, loss: 1.9397\n",
            "2021-07-15 14:34:25,639 - mmdet - INFO - Epoch [2][600/664]\tlr: 2.971e-04, eta: 3:15:24, time: 1.312, data_time: 0.013, memory: 5552, loss_cls: 0.8326, loss_bbox: 0.4824, loss_bbox_rf: 0.6433, loss: 1.9582\n",
            "2021-07-15 14:35:47,916 - mmdet - INFO - Saving checkpoint at 2 epochs\n"
          ],
          "name": "stderr"
        },
        {
          "output_type": "stream",
          "text": [
            "[>>>>>>>>>>>>>>>>>>>>>>>>>>>>>] 665/665, 11.8 task/s, elapsed: 57s, ETA:     0s"
          ],
          "name": "stdout"
        },
        {
          "output_type": "stream",
          "text": [
            "2021-07-15 14:36:47,371 - mmdet - INFO - Evaluating bbox...\n"
          ],
          "name": "stderr"
        },
        {
          "output_type": "stream",
          "text": [
            "Loading and preparing results...\n",
            "DONE (t=0.27s)\n",
            "creating index...\n",
            "index created!\n",
            "Running per image evaluation...\n",
            "Evaluate annotation type *bbox*\n",
            "DONE (t=6.37s).\n",
            "Accumulating evaluation results...\n"
          ],
          "name": "stdout"
        },
        {
          "output_type": "stream",
          "text": [
            "2021-07-15 14:36:56,524 - mmdet - INFO - Epoch(val) [2][665]\tbbox_mAP: 0.1480, bbox_mAP_50: 0.4840, bbox_mAP_75: 0.0430, bbox_mAP_s: 0.0000, bbox_mAP_m: 0.0210, bbox_mAP_l: 0.1730, bbox_mAP_copypaste: 0.148 0.484 0.043 0.000 0.021 0.173\n"
          ],
          "name": "stderr"
        },
        {
          "output_type": "stream",
          "text": [
            "DONE (t=2.05s).\n",
            " Average Precision  (AP) @[ IoU=0.50:0.95 | area=   all | maxDets=100 ] = 0.148\n",
            " Average Precision  (AP) @[ IoU=0.50      | area=   all | maxDets=1000 ] = 0.484\n",
            " Average Precision  (AP) @[ IoU=0.75      | area=   all | maxDets=1000 ] = 0.043\n",
            " Average Precision  (AP) @[ IoU=0.50:0.95 | area= small | maxDets=1000 ] = 0.000\n",
            " Average Precision  (AP) @[ IoU=0.50:0.95 | area=medium | maxDets=1000 ] = 0.021\n",
            " Average Precision  (AP) @[ IoU=0.50:0.95 | area= large | maxDets=1000 ] = 0.173\n",
            " Average Recall     (AR) @[ IoU=0.50:0.95 | area=   all | maxDets=100 ] = 0.475\n",
            " Average Recall     (AR) @[ IoU=0.50:0.95 | area=   all | maxDets=300 ] = 0.475\n",
            " Average Recall     (AR) @[ IoU=0.50:0.95 | area=   all | maxDets=1000 ] = 0.475\n",
            " Average Recall     (AR) @[ IoU=0.50:0.95 | area= small | maxDets=1000 ] = 0.000\n",
            " Average Recall     (AR) @[ IoU=0.50:0.95 | area=medium | maxDets=1000 ] = 0.311\n",
            " Average Recall     (AR) @[ IoU=0.50:0.95 | area= large | maxDets=1000 ] = 0.509\n"
          ],
          "name": "stdout"
        },
        {
          "output_type": "stream",
          "text": [
            "2021-07-15 14:39:09,806 - mmdet - INFO - Epoch [3][100/664]\tlr: 2.886e-04, eta: 3:04:13, time: 1.331, data_time: 0.035, memory: 5552, loss_cls: 0.8404, loss_bbox: 0.4625, loss_bbox_rf: 0.6159, loss: 1.9187\n",
            "2021-07-15 14:41:24,033 - mmdet - INFO - Epoch [3][200/664]\tlr: 2.886e-04, eta: 3:03:36, time: 1.342, data_time: 0.013, memory: 5552, loss_cls: 0.8542, loss_bbox: 0.4756, loss_bbox_rf: 0.6338, loss: 1.9636\n",
            "2021-07-15 14:43:35,892 - mmdet - INFO - Epoch [3][300/664]\tlr: 2.886e-04, eta: 3:02:35, time: 1.319, data_time: 0.013, memory: 5552, loss_cls: 0.8416, loss_bbox: 0.4598, loss_bbox_rf: 0.6121, loss: 1.9135\n",
            "2021-07-15 14:45:47,318 - mmdet - INFO - Epoch [3][400/664]\tlr: 2.886e-04, eta: 3:01:22, time: 1.314, data_time: 0.013, memory: 5552, loss_cls: 0.8514, loss_bbox: 0.4613, loss_bbox_rf: 0.6136, loss: 1.9264\n",
            "2021-07-15 14:47:56,849 - mmdet - INFO - Epoch [3][500/664]\tlr: 2.886e-04, eta: 2:59:55, time: 1.296, data_time: 0.014, memory: 5552, loss_cls: 0.8360, loss_bbox: 0.4643, loss_bbox_rf: 0.6190, loss: 1.9194\n",
            "2021-07-15 14:50:08,008 - mmdet - INFO - Epoch [3][600/664]\tlr: 2.886e-04, eta: 2:58:30, time: 1.311, data_time: 0.013, memory: 5552, loss_cls: 0.8443, loss_bbox: 0.4535, loss_bbox_rf: 0.6040, loss: 1.9018\n",
            "2021-07-15 14:53:43,511 - mmdet - INFO - Epoch [4][100/664]\tlr: 2.747e-04, eta: 2:50:27, time: 1.331, data_time: 0.035, memory: 5552, loss_cls: 0.8393, loss_bbox: 0.4613, loss_bbox_rf: 0.6150, loss: 1.9156\n",
            "2021-07-15 14:55:57,732 - mmdet - INFO - Epoch [4][200/664]\tlr: 2.747e-04, eta: 2:49:22, time: 1.342, data_time: 0.012, memory: 5552, loss_cls: 0.8475, loss_bbox: 0.4574, loss_bbox_rf: 0.6092, loss: 1.9140\n",
            "2021-07-15 14:58:09,527 - mmdet - INFO - Epoch [4][300/664]\tlr: 2.747e-04, eta: 2:48:03, time: 1.318, data_time: 0.013, memory: 5552, loss_cls: 0.8484, loss_bbox: 0.4469, loss_bbox_rf: 0.5952, loss: 1.8905\n",
            "2021-07-15 15:00:20,994 - mmdet - INFO - Epoch [4][400/664]\tlr: 2.747e-04, eta: 2:46:37, time: 1.314, data_time: 0.013, memory: 5552, loss_cls: 0.8315, loss_bbox: 0.4504, loss_bbox_rf: 0.5998, loss: 1.8817\n",
            "2021-07-15 15:02:30,486 - mmdet - INFO - Epoch [4][500/664]\tlr: 2.747e-04, eta: 2:45:02, time: 1.295, data_time: 0.013, memory: 5552, loss_cls: 0.8473, loss_bbox: 0.4547, loss_bbox_rf: 0.6054, loss: 1.9074\n",
            "2021-07-15 15:04:41,641 - mmdet - INFO - Epoch [4][600/664]\tlr: 2.747e-04, eta: 2:43:30, time: 1.311, data_time: 0.013, memory: 5552, loss_cls: 0.8421, loss_bbox: 0.4569, loss_bbox_rf: 0.6092, loss: 1.9081\n",
            "2021-07-15 15:06:03,927 - mmdet - INFO - Saving checkpoint at 4 epochs\n"
          ],
          "name": "stderr"
        },
        {
          "output_type": "stream",
          "text": [
            "[>>>>>>>>>>>>>>>>>>>>>>>>>>>>>] 665/665, 11.7 task/s, elapsed: 57s, ETA:     0s"
          ],
          "name": "stdout"
        },
        {
          "output_type": "stream",
          "text": [
            "2021-07-15 15:07:03,151 - mmdet - INFO - Evaluating bbox...\n"
          ],
          "name": "stderr"
        },
        {
          "output_type": "stream",
          "text": [
            "Loading and preparing results...\n",
            "DONE (t=0.26s)\n",
            "creating index...\n",
            "index created!\n",
            "Running per image evaluation...\n",
            "Evaluate annotation type *bbox*\n",
            "DONE (t=6.07s).\n",
            "Accumulating evaluation results...\n"
          ],
          "name": "stdout"
        },
        {
          "output_type": "stream",
          "text": [
            "2021-07-15 15:07:11,980 - mmdet - INFO - Epoch(val) [4][665]\tbbox_mAP: 0.1900, bbox_mAP_50: 0.5550, bbox_mAP_75: 0.0710, bbox_mAP_s: 0.0000, bbox_mAP_m: 0.0390, bbox_mAP_l: 0.2180, bbox_mAP_copypaste: 0.190 0.555 0.071 0.000 0.039 0.218\n"
          ],
          "name": "stderr"
        },
        {
          "output_type": "stream",
          "text": [
            "DONE (t=1.94s).\n",
            " Average Precision  (AP) @[ IoU=0.50:0.95 | area=   all | maxDets=100 ] = 0.190\n",
            " Average Precision  (AP) @[ IoU=0.50      | area=   all | maxDets=1000 ] = 0.555\n",
            " Average Precision  (AP) @[ IoU=0.75      | area=   all | maxDets=1000 ] = 0.071\n",
            " Average Precision  (AP) @[ IoU=0.50:0.95 | area= small | maxDets=1000 ] = 0.000\n",
            " Average Precision  (AP) @[ IoU=0.50:0.95 | area=medium | maxDets=1000 ] = 0.039\n",
            " Average Precision  (AP) @[ IoU=0.50:0.95 | area= large | maxDets=1000 ] = 0.218\n",
            " Average Recall     (AR) @[ IoU=0.50:0.95 | area=   all | maxDets=100 ] = 0.496\n",
            " Average Recall     (AR) @[ IoU=0.50:0.95 | area=   all | maxDets=300 ] = 0.496\n",
            " Average Recall     (AR) @[ IoU=0.50:0.95 | area=   all | maxDets=1000 ] = 0.496\n",
            " Average Recall     (AR) @[ IoU=0.50:0.95 | area= small | maxDets=1000 ] = 0.000\n",
            " Average Recall     (AR) @[ IoU=0.50:0.95 | area=medium | maxDets=1000 ] = 0.330\n",
            " Average Recall     (AR) @[ IoU=0.50:0.95 | area= large | maxDets=1000 ] = 0.530\n"
          ],
          "name": "stdout"
        },
        {
          "output_type": "stream",
          "text": [
            "2021-07-15 15:09:25,253 - mmdet - INFO - Epoch [5][100/664]\tlr: 2.561e-04, eta: 2:36:57, time: 1.331, data_time: 0.035, memory: 5552, loss_cls: 0.8358, loss_bbox: 0.4449, loss_bbox_rf: 0.5927, loss: 1.8734\n",
            "2021-07-15 15:11:39,484 - mmdet - INFO - Epoch [5][200/664]\tlr: 2.561e-04, eta: 2:35:37, time: 1.342, data_time: 0.014, memory: 5552, loss_cls: 0.8384, loss_bbox: 0.4468, loss_bbox_rf: 0.5941, loss: 1.8794\n",
            "2021-07-15 15:13:51,316 - mmdet - INFO - Epoch [5][300/664]\tlr: 2.561e-04, eta: 2:34:07, time: 1.319, data_time: 0.014, memory: 5552, loss_cls: 0.8361, loss_bbox: 0.4492, loss_bbox_rf: 0.5982, loss: 1.8835\n",
            "2021-07-15 15:16:02,791 - mmdet - INFO - Epoch [5][400/664]\tlr: 2.561e-04, eta: 2:32:33, time: 1.314, data_time: 0.014, memory: 5552, loss_cls: 0.8411, loss_bbox: 0.4586, loss_bbox_rf: 0.6110, loss: 1.9108\n",
            "2021-07-15 15:18:12,327 - mmdet - INFO - Epoch [5][500/664]\tlr: 2.561e-04, eta: 2:30:53, time: 1.296, data_time: 0.013, memory: 5552, loss_cls: 0.8259, loss_bbox: 0.4524, loss_bbox_rf: 0.6022, loss: 1.8804\n",
            "2021-07-15 15:20:23,526 - mmdet - INFO - Epoch [5][600/664]\tlr: 2.561e-04, eta: 2:29:14, time: 1.312, data_time: 0.014, memory: 5552, loss_cls: 0.8382, loss_bbox: 0.4463, loss_bbox_rf: 0.5937, loss: 1.8782\n",
            "2021-07-15 15:23:59,157 - mmdet - INFO - Epoch [6][100/664]\tlr: 2.333e-04, eta: 2:23:35, time: 1.332, data_time: 0.036, memory: 5552, loss_cls: 0.8445, loss_bbox: 0.4471, loss_bbox_rf: 0.5959, loss: 1.8875\n",
            "2021-07-15 15:26:13,414 - mmdet - INFO - Epoch [6][200/664]\tlr: 2.333e-04, eta: 2:22:05, time: 1.342, data_time: 0.013, memory: 5552, loss_cls: 0.8341, loss_bbox: 0.4444, loss_bbox_rf: 0.5917, loss: 1.8702\n",
            "2021-07-15 15:28:25,263 - mmdet - INFO - Epoch [6][300/664]\tlr: 2.333e-04, eta: 2:20:28, time: 1.319, data_time: 0.014, memory: 5552, loss_cls: 0.8336, loss_bbox: 0.4435, loss_bbox_rf: 0.5910, loss: 1.8681\n",
            "2021-07-15 15:30:36,700 - mmdet - INFO - Epoch [6][400/664]\tlr: 2.333e-04, eta: 2:18:49, time: 1.314, data_time: 0.013, memory: 5552, loss_cls: 0.8412, loss_bbox: 0.4497, loss_bbox_rf: 0.5986, loss: 1.8895\n",
            "2021-07-15 15:32:46,195 - mmdet - INFO - Epoch [6][500/664]\tlr: 2.333e-04, eta: 2:17:04, time: 1.295, data_time: 0.013, memory: 5552, loss_cls: 0.8331, loss_bbox: 0.4459, loss_bbox_rf: 0.5936, loss: 1.8727\n",
            "2021-07-15 15:34:57,376 - mmdet - INFO - Epoch [6][600/664]\tlr: 2.333e-04, eta: 2:15:20, time: 1.312, data_time: 0.013, memory: 5552, loss_cls: 0.8360, loss_bbox: 0.4452, loss_bbox_rf: 0.5932, loss: 1.8743\n",
            "2021-07-15 15:36:19,645 - mmdet - INFO - Saving checkpoint at 6 epochs\n"
          ],
          "name": "stderr"
        },
        {
          "output_type": "stream",
          "text": [
            "[>>>>>>>>>>>>>>>>>>>>>>>>>>>>>] 665/665, 11.8 task/s, elapsed: 57s, ETA:     0s"
          ],
          "name": "stdout"
        },
        {
          "output_type": "stream",
          "text": [
            "2021-07-15 15:37:18,829 - mmdet - INFO - Evaluating bbox...\n"
          ],
          "name": "stderr"
        },
        {
          "output_type": "stream",
          "text": [
            "Loading and preparing results...\n",
            "DONE (t=0.25s)\n",
            "creating index...\n",
            "index created!\n",
            "Running per image evaluation...\n",
            "Evaluate annotation type *bbox*\n",
            "DONE (t=5.97s).\n",
            "Accumulating evaluation results...\n"
          ],
          "name": "stdout"
        },
        {
          "output_type": "stream",
          "text": [
            "2021-07-15 15:37:27,357 - mmdet - INFO - Epoch(val) [6][665]\tbbox_mAP: 0.1850, bbox_mAP_50: 0.5220, bbox_mAP_75: 0.0750, bbox_mAP_s: 0.0000, bbox_mAP_m: 0.0430, bbox_mAP_l: 0.2130, bbox_mAP_copypaste: 0.185 0.522 0.075 0.000 0.043 0.213\n"
          ],
          "name": "stderr"
        },
        {
          "output_type": "stream",
          "text": [
            "DONE (t=1.87s).\n",
            " Average Precision  (AP) @[ IoU=0.50:0.95 | area=   all | maxDets=100 ] = 0.185\n",
            " Average Precision  (AP) @[ IoU=0.50      | area=   all | maxDets=1000 ] = 0.522\n",
            " Average Precision  (AP) @[ IoU=0.75      | area=   all | maxDets=1000 ] = 0.075\n",
            " Average Precision  (AP) @[ IoU=0.50:0.95 | area= small | maxDets=1000 ] = 0.000\n",
            " Average Precision  (AP) @[ IoU=0.50:0.95 | area=medium | maxDets=1000 ] = 0.043\n",
            " Average Precision  (AP) @[ IoU=0.50:0.95 | area= large | maxDets=1000 ] = 0.213\n",
            " Average Recall     (AR) @[ IoU=0.50:0.95 | area=   all | maxDets=100 ] = 0.501\n",
            " Average Recall     (AR) @[ IoU=0.50:0.95 | area=   all | maxDets=300 ] = 0.501\n",
            " Average Recall     (AR) @[ IoU=0.50:0.95 | area=   all | maxDets=1000 ] = 0.501\n",
            " Average Recall     (AR) @[ IoU=0.50:0.95 | area= small | maxDets=1000 ] = 0.000\n",
            " Average Recall     (AR) @[ IoU=0.50:0.95 | area=medium | maxDets=1000 ] = 0.337\n",
            " Average Recall     (AR) @[ IoU=0.50:0.95 | area= large | maxDets=1000 ] = 0.535\n"
          ],
          "name": "stdout"
        },
        {
          "output_type": "stream",
          "text": [
            "2021-07-15 15:39:40,554 - mmdet - INFO - Epoch [7][100/664]\tlr: 2.074e-04, eta: 2:10:17, time: 1.330, data_time: 0.035, memory: 5552, loss_cls: 0.8118, loss_bbox: 0.4395, loss_bbox_rf: 0.5853, loss: 1.8366\n",
            "2021-07-15 15:41:54,803 - mmdet - INFO - Epoch [7][200/664]\tlr: 2.074e-04, eta: 2:08:40, time: 1.342, data_time: 0.013, memory: 5552, loss_cls: 0.8301, loss_bbox: 0.4456, loss_bbox_rf: 0.5944, loss: 1.8701\n",
            "2021-07-15 15:44:06,624 - mmdet - INFO - Epoch [7][300/664]\tlr: 2.074e-04, eta: 2:06:58, time: 1.318, data_time: 0.013, memory: 5552, loss_cls: 0.8425, loss_bbox: 0.4497, loss_bbox_rf: 0.5995, loss: 1.8918\n",
            "2021-07-15 15:46:18,101 - mmdet - INFO - Epoch [7][400/664]\tlr: 2.074e-04, eta: 2:05:13, time: 1.314, data_time: 0.013, memory: 5552, loss_cls: 0.8262, loss_bbox: 0.4520, loss_bbox_rf: 0.6016, loss: 1.8799\n",
            "2021-07-15 15:48:27,612 - mmdet - INFO - Epoch [7][500/664]\tlr: 2.074e-04, eta: 2:03:26, time: 1.295, data_time: 0.014, memory: 5552, loss_cls: 0.8345, loss_bbox: 0.4384, loss_bbox_rf: 0.5837, loss: 1.8566\n",
            "2021-07-15 15:50:38,850 - mmdet - INFO - Epoch [7][600/664]\tlr: 2.074e-04, eta: 2:01:39, time: 1.312, data_time: 0.013, memory: 5552, loss_cls: 0.8512, loss_bbox: 0.4480, loss_bbox_rf: 0.5965, loss: 1.8957\n",
            "2021-07-15 15:54:14,440 - mmdet - INFO - Epoch [8][100/664]\tlr: 1.793e-04, eta: 1:57:00, time: 1.331, data_time: 0.035, memory: 5552, loss_cls: 0.8317, loss_bbox: 0.4497, loss_bbox_rf: 0.5986, loss: 1.8799\n",
            "2021-07-15 15:56:28,653 - mmdet - INFO - Epoch [8][200/664]\tlr: 1.793e-04, eta: 1:55:18, time: 1.342, data_time: 0.013, memory: 5552, loss_cls: 0.8275, loss_bbox: 0.4400, loss_bbox_rf: 0.5862, loss: 1.8537\n",
            "2021-07-15 15:58:40,513 - mmdet - INFO - Epoch [8][300/664]\tlr: 1.793e-04, eta: 1:53:32, time: 1.319, data_time: 0.013, memory: 5552, loss_cls: 0.8132, loss_bbox: 0.4348, loss_bbox_rf: 0.5790, loss: 1.8270\n",
            "2021-07-15 16:00:51,987 - mmdet - INFO - Epoch [8][400/664]\tlr: 1.793e-04, eta: 1:51:45, time: 1.314, data_time: 0.013, memory: 5552, loss_cls: 0.8291, loss_bbox: 0.4455, loss_bbox_rf: 0.5931, loss: 1.8677\n",
            "2021-07-15 16:03:01,507 - mmdet - INFO - Epoch [8][500/664]\tlr: 1.793e-04, eta: 1:49:55, time: 1.296, data_time: 0.013, memory: 5552, loss_cls: 0.8318, loss_bbox: 0.4438, loss_bbox_rf: 0.5914, loss: 1.8670\n",
            "2021-07-15 16:05:12,728 - mmdet - INFO - Epoch [8][600/664]\tlr: 1.793e-04, eta: 1:48:05, time: 1.312, data_time: 0.013, memory: 5552, loss_cls: 0.8322, loss_bbox: 0.4463, loss_bbox_rf: 0.5939, loss: 1.8724\n",
            "2021-07-15 16:06:35,048 - mmdet - INFO - Saving checkpoint at 8 epochs\n"
          ],
          "name": "stderr"
        },
        {
          "output_type": "stream",
          "text": [
            "[>>>>>>>>>>>>>>>>>>>>>>>>>>>>>] 665/665, 11.8 task/s, elapsed: 57s, ETA:     0s"
          ],
          "name": "stdout"
        },
        {
          "output_type": "stream",
          "text": [
            "2021-07-15 16:07:34,092 - mmdet - INFO - Evaluating bbox...\n"
          ],
          "name": "stderr"
        },
        {
          "output_type": "stream",
          "text": [
            "Loading and preparing results...\n",
            "DONE (t=0.25s)\n",
            "creating index...\n",
            "index created!\n",
            "Running per image evaluation...\n",
            "Evaluate annotation type *bbox*\n",
            "DONE (t=5.70s).\n",
            "Accumulating evaluation results...\n"
          ],
          "name": "stdout"
        },
        {
          "output_type": "stream",
          "text": [
            "2021-07-15 16:07:42,407 - mmdet - INFO - Epoch(val) [8][665]\tbbox_mAP: 0.1940, bbox_mAP_50: 0.5460, bbox_mAP_75: 0.0790, bbox_mAP_s: 0.0000, bbox_mAP_m: 0.0410, bbox_mAP_l: 0.2230, bbox_mAP_copypaste: 0.194 0.546 0.079 0.000 0.041 0.223\n"
          ],
          "name": "stderr"
        },
        {
          "output_type": "stream",
          "text": [
            "DONE (t=1.81s).\n",
            " Average Precision  (AP) @[ IoU=0.50:0.95 | area=   all | maxDets=100 ] = 0.194\n",
            " Average Precision  (AP) @[ IoU=0.50      | area=   all | maxDets=1000 ] = 0.546\n",
            " Average Precision  (AP) @[ IoU=0.75      | area=   all | maxDets=1000 ] = 0.079\n",
            " Average Precision  (AP) @[ IoU=0.50:0.95 | area= small | maxDets=1000 ] = 0.000\n",
            " Average Precision  (AP) @[ IoU=0.50:0.95 | area=medium | maxDets=1000 ] = 0.041\n",
            " Average Precision  (AP) @[ IoU=0.50:0.95 | area= large | maxDets=1000 ] = 0.223\n",
            " Average Recall     (AR) @[ IoU=0.50:0.95 | area=   all | maxDets=100 ] = 0.507\n",
            " Average Recall     (AR) @[ IoU=0.50:0.95 | area=   all | maxDets=300 ] = 0.507\n",
            " Average Recall     (AR) @[ IoU=0.50:0.95 | area=   all | maxDets=1000 ] = 0.507\n",
            " Average Recall     (AR) @[ IoU=0.50:0.95 | area= small | maxDets=1000 ] = 0.000\n",
            " Average Recall     (AR) @[ IoU=0.50:0.95 | area=medium | maxDets=1000 ] = 0.337\n",
            " Average Recall     (AR) @[ IoU=0.50:0.95 | area= large | maxDets=1000 ] = 0.542\n"
          ],
          "name": "stdout"
        },
        {
          "output_type": "stream",
          "text": [
            "2021-07-15 16:09:55,664 - mmdet - INFO - Epoch [9][100/664]\tlr: 1.500e-04, eta: 1:43:45, time: 1.331, data_time: 0.035, memory: 5552, loss_cls: 0.8328, loss_bbox: 0.4366, loss_bbox_rf: 0.5814, loss: 1.8509\n",
            "2021-07-15 16:12:09,913 - mmdet - INFO - Epoch [9][200/664]\tlr: 1.500e-04, eta: 1:41:59, time: 1.342, data_time: 0.013, memory: 5552, loss_cls: 0.8397, loss_bbox: 0.4351, loss_bbox_rf: 0.5787, loss: 1.8535\n",
            "2021-07-15 16:14:21,751 - mmdet - INFO - Epoch [9][300/664]\tlr: 1.500e-04, eta: 1:40:10, time: 1.319, data_time: 0.013, memory: 5552, loss_cls: 0.8342, loss_bbox: 0.4331, loss_bbox_rf: 0.5769, loss: 1.8442\n",
            "2021-07-15 16:16:33,231 - mmdet - INFO - Epoch [9][400/664]\tlr: 1.500e-04, eta: 1:38:20, time: 1.314, data_time: 0.013, memory: 5552, loss_cls: 0.8207, loss_bbox: 0.4406, loss_bbox_rf: 0.5871, loss: 1.8484\n",
            "2021-07-15 16:18:42,775 - mmdet - INFO - Epoch [9][500/664]\tlr: 1.500e-04, eta: 1:36:28, time: 1.296, data_time: 0.014, memory: 5552, loss_cls: 0.8331, loss_bbox: 0.4332, loss_bbox_rf: 0.5771, loss: 1.8433\n",
            "2021-07-15 16:20:54,007 - mmdet - INFO - Epoch [9][600/664]\tlr: 1.500e-04, eta: 1:34:36, time: 1.312, data_time: 0.013, memory: 5552, loss_cls: 0.8263, loss_bbox: 0.4452, loss_bbox_rf: 0.5931, loss: 1.8646\n",
            "2021-07-15 16:24:29,606 - mmdet - INFO - Epoch [10][100/664]\tlr: 1.207e-04, eta: 1:30:31, time: 1.331, data_time: 0.035, memory: 5552, loss_cls: 0.8158, loss_bbox: 0.4309, loss_bbox_rf: 0.5737, loss: 1.8203\n",
            "2021-07-15 16:26:43,855 - mmdet - INFO - Epoch [10][200/664]\tlr: 1.207e-04, eta: 1:28:42, time: 1.342, data_time: 0.012, memory: 5552, loss_cls: 0.8266, loss_bbox: 0.4389, loss_bbox_rf: 0.5845, loss: 1.8500\n",
            "2021-07-15 16:28:55,697 - mmdet - INFO - Epoch [10][300/664]\tlr: 1.207e-04, eta: 1:26:51, time: 1.319, data_time: 0.013, memory: 5552, loss_cls: 0.8262, loss_bbox: 0.4348, loss_bbox_rf: 0.5787, loss: 1.8397\n",
            "2021-07-15 16:31:07,199 - mmdet - INFO - Epoch [10][400/664]\tlr: 1.207e-04, eta: 1:24:58, time: 1.315, data_time: 0.013, memory: 5552, loss_cls: 0.8253, loss_bbox: 0.4339, loss_bbox_rf: 0.5779, loss: 1.8370\n",
            "2021-07-15 16:33:16,746 - mmdet - INFO - Epoch [10][500/664]\tlr: 1.207e-04, eta: 1:23:05, time: 1.296, data_time: 0.013, memory: 5552, loss_cls: 0.8169, loss_bbox: 0.4460, loss_bbox_rf: 0.5943, loss: 1.8572\n",
            "2021-07-15 16:35:27,975 - mmdet - INFO - Epoch [10][600/664]\tlr: 1.207e-04, eta: 1:21:11, time: 1.312, data_time: 0.013, memory: 5552, loss_cls: 0.8391, loss_bbox: 0.4459, loss_bbox_rf: 0.5933, loss: 1.8782\n",
            "2021-07-15 16:36:50,298 - mmdet - INFO - Saving checkpoint at 10 epochs\n"
          ],
          "name": "stderr"
        },
        {
          "output_type": "stream",
          "text": [
            "[>>>>>>>>>>>>>>>>>>>>>>>>>>>>>] 665/665, 11.7 task/s, elapsed: 57s, ETA:     0s"
          ],
          "name": "stdout"
        },
        {
          "output_type": "stream",
          "text": [
            "2021-07-15 16:37:49,445 - mmdet - INFO - Evaluating bbox...\n"
          ],
          "name": "stderr"
        },
        {
          "output_type": "stream",
          "text": [
            "Loading and preparing results...\n",
            "DONE (t=0.25s)\n",
            "creating index...\n",
            "index created!\n",
            "Running per image evaluation...\n",
            "Evaluate annotation type *bbox*\n",
            "DONE (t=5.75s).\n",
            "Accumulating evaluation results...\n"
          ],
          "name": "stdout"
        },
        {
          "output_type": "stream",
          "text": [
            "2021-07-15 16:37:57,638 - mmdet - INFO - Epoch(val) [10][665]\tbbox_mAP: 0.1970, bbox_mAP_50: 0.5570, bbox_mAP_75: 0.0820, bbox_mAP_s: 0.0000, bbox_mAP_m: 0.0440, bbox_mAP_l: 0.2260, bbox_mAP_copypaste: 0.197 0.557 0.082 0.000 0.044 0.226\n"
          ],
          "name": "stderr"
        },
        {
          "output_type": "stream",
          "text": [
            "DONE (t=1.77s).\n",
            " Average Precision  (AP) @[ IoU=0.50:0.95 | area=   all | maxDets=100 ] = 0.197\n",
            " Average Precision  (AP) @[ IoU=0.50      | area=   all | maxDets=1000 ] = 0.557\n",
            " Average Precision  (AP) @[ IoU=0.75      | area=   all | maxDets=1000 ] = 0.082\n",
            " Average Precision  (AP) @[ IoU=0.50:0.95 | area= small | maxDets=1000 ] = 0.000\n",
            " Average Precision  (AP) @[ IoU=0.50:0.95 | area=medium | maxDets=1000 ] = 0.044\n",
            " Average Precision  (AP) @[ IoU=0.50:0.95 | area= large | maxDets=1000 ] = 0.226\n",
            " Average Recall     (AR) @[ IoU=0.50:0.95 | area=   all | maxDets=100 ] = 0.502\n",
            " Average Recall     (AR) @[ IoU=0.50:0.95 | area=   all | maxDets=300 ] = 0.502\n",
            " Average Recall     (AR) @[ IoU=0.50:0.95 | area=   all | maxDets=1000 ] = 0.502\n",
            " Average Recall     (AR) @[ IoU=0.50:0.95 | area= small | maxDets=1000 ] = 0.000\n",
            " Average Recall     (AR) @[ IoU=0.50:0.95 | area=medium | maxDets=1000 ] = 0.332\n",
            " Average Recall     (AR) @[ IoU=0.50:0.95 | area= large | maxDets=1000 ] = 0.537\n"
          ],
          "name": "stdout"
        },
        {
          "output_type": "stream",
          "text": [
            "2021-07-15 16:40:10,923 - mmdet - INFO - Epoch [11][100/664]\tlr: 9.260e-05, eta: 1:17:17, time: 1.331, data_time: 0.035, memory: 5552, loss_cls: 0.8306, loss_bbox: 0.4347, loss_bbox_rf: 0.5792, loss: 1.8445\n",
            "2021-07-15 16:42:25,188 - mmdet - INFO - Epoch [11][200/664]\tlr: 9.260e-05, eta: 1:15:26, time: 1.342, data_time: 0.012, memory: 5552, loss_cls: 0.8334, loss_bbox: 0.4327, loss_bbox_rf: 0.5759, loss: 1.8420\n",
            "2021-07-15 16:44:37,065 - mmdet - INFO - Epoch [11][300/664]\tlr: 9.260e-05, eta: 1:13:33, time: 1.319, data_time: 0.013, memory: 5552, loss_cls: 0.8239, loss_bbox: 0.4302, loss_bbox_rf: 0.5732, loss: 1.8273\n",
            "2021-07-15 16:46:48,559 - mmdet - INFO - Epoch [11][400/664]\tlr: 9.260e-05, eta: 1:11:39, time: 1.315, data_time: 0.013, memory: 5552, loss_cls: 0.8331, loss_bbox: 0.4342, loss_bbox_rf: 0.5787, loss: 1.8460\n",
            "2021-07-15 16:48:58,122 - mmdet - INFO - Epoch [11][500/664]\tlr: 9.260e-05, eta: 1:09:43, time: 1.296, data_time: 0.013, memory: 5552, loss_cls: 0.8214, loss_bbox: 0.4348, loss_bbox_rf: 0.5799, loss: 1.8361\n",
            "2021-07-15 16:51:09,346 - mmdet - INFO - Epoch [11][600/664]\tlr: 9.260e-05, eta: 1:07:49, time: 1.312, data_time: 0.013, memory: 5552, loss_cls: 0.8140, loss_bbox: 0.4431, loss_bbox_rf: 0.5903, loss: 1.8474\n",
            "2021-07-15 16:54:45,010 - mmdet - INFO - Epoch [12][100/664]\tlr: 6.667e-05, eta: 1:04:03, time: 1.332, data_time: 0.035, memory: 5552, loss_cls: 0.8150, loss_bbox: 0.4347, loss_bbox_rf: 0.5794, loss: 1.8292\n",
            "2021-07-15 16:56:59,328 - mmdet - INFO - Epoch [12][200/664]\tlr: 6.667e-05, eta: 1:02:10, time: 1.343, data_time: 0.012, memory: 5552, loss_cls: 0.8272, loss_bbox: 0.4371, loss_bbox_rf: 0.5825, loss: 1.8468\n",
            "2021-07-15 16:59:11,224 - mmdet - INFO - Epoch [12][300/664]\tlr: 6.667e-05, eta: 1:00:16, time: 1.319, data_time: 0.013, memory: 5552, loss_cls: 0.8195, loss_bbox: 0.4194, loss_bbox_rf: 0.5588, loss: 1.7978\n",
            "2021-07-15 17:01:22,740 - mmdet - INFO - Epoch [12][400/664]\tlr: 6.667e-05, eta: 0:58:20, time: 1.315, data_time: 0.013, memory: 5552, loss_cls: 0.8223, loss_bbox: 0.4249, loss_bbox_rf: 0.5661, loss: 1.8133\n",
            "2021-07-15 17:03:32,313 - mmdet - INFO - Epoch [12][500/664]\tlr: 6.667e-05, eta: 0:56:24, time: 1.296, data_time: 0.014, memory: 5552, loss_cls: 0.8306, loss_bbox: 0.4378, loss_bbox_rf: 0.5830, loss: 1.8514\n",
            "2021-07-15 17:05:43,593 - mmdet - INFO - Epoch [12][600/664]\tlr: 6.667e-05, eta: 0:54:28, time: 1.313, data_time: 0.013, memory: 5552, loss_cls: 0.8285, loss_bbox: 0.4306, loss_bbox_rf: 0.5733, loss: 1.8324\n",
            "2021-07-15 17:07:05,927 - mmdet - INFO - Saving checkpoint at 12 epochs\n"
          ],
          "name": "stderr"
        },
        {
          "output_type": "stream",
          "text": [
            "[>>>>>>>>>>>>>>>>>>>>>>>>>>>>>] 665/665, 11.7 task/s, elapsed: 57s, ETA:     0s"
          ],
          "name": "stdout"
        },
        {
          "output_type": "stream",
          "text": [
            "2021-07-15 17:08:05,150 - mmdet - INFO - Evaluating bbox...\n"
          ],
          "name": "stderr"
        },
        {
          "output_type": "stream",
          "text": [
            "Loading and preparing results...\n",
            "DONE (t=0.24s)\n",
            "creating index...\n",
            "index created!\n",
            "Running per image evaluation...\n",
            "Evaluate annotation type *bbox*\n",
            "DONE (t=5.36s).\n",
            "Accumulating evaluation results...\n"
          ],
          "name": "stdout"
        },
        {
          "output_type": "stream",
          "text": [
            "2021-07-15 17:08:12,818 - mmdet - INFO - Epoch(val) [12][665]\tbbox_mAP: 0.1970, bbox_mAP_50: 0.5510, bbox_mAP_75: 0.0890, bbox_mAP_s: 0.0000, bbox_mAP_m: 0.0420, bbox_mAP_l: 0.2260, bbox_mAP_copypaste: 0.197 0.551 0.089 0.000 0.042 0.226\n"
          ],
          "name": "stderr"
        },
        {
          "output_type": "stream",
          "text": [
            "DONE (t=1.67s).\n",
            " Average Precision  (AP) @[ IoU=0.50:0.95 | area=   all | maxDets=100 ] = 0.197\n",
            " Average Precision  (AP) @[ IoU=0.50      | area=   all | maxDets=1000 ] = 0.551\n",
            " Average Precision  (AP) @[ IoU=0.75      | area=   all | maxDets=1000 ] = 0.089\n",
            " Average Precision  (AP) @[ IoU=0.50:0.95 | area= small | maxDets=1000 ] = 0.000\n",
            " Average Precision  (AP) @[ IoU=0.50:0.95 | area=medium | maxDets=1000 ] = 0.042\n",
            " Average Precision  (AP) @[ IoU=0.50:0.95 | area= large | maxDets=1000 ] = 0.226\n",
            " Average Recall     (AR) @[ IoU=0.50:0.95 | area=   all | maxDets=100 ] = 0.502\n",
            " Average Recall     (AR) @[ IoU=0.50:0.95 | area=   all | maxDets=300 ] = 0.502\n",
            " Average Recall     (AR) @[ IoU=0.50:0.95 | area=   all | maxDets=1000 ] = 0.502\n",
            " Average Recall     (AR) @[ IoU=0.50:0.95 | area= small | maxDets=1000 ] = 0.000\n",
            " Average Recall     (AR) @[ IoU=0.50:0.95 | area=medium | maxDets=1000 ] = 0.352\n",
            " Average Recall     (AR) @[ IoU=0.50:0.95 | area= large | maxDets=1000 ] = 0.534\n"
          ],
          "name": "stdout"
        },
        {
          "output_type": "stream",
          "text": [
            "2021-07-15 17:10:26,117 - mmdet - INFO - Epoch [13][100/664]\tlr: 4.394e-05, eta: 0:50:51, time: 1.331, data_time: 0.035, memory: 5552, loss_cls: 0.8311, loss_bbox: 0.4297, loss_bbox_rf: 0.5721, loss: 1.8329\n",
            "2021-07-15 17:12:40,399 - mmdet - INFO - Epoch [13][200/664]\tlr: 4.394e-05, eta: 0:48:56, time: 1.343, data_time: 0.013, memory: 5552, loss_cls: 0.8277, loss_bbox: 0.4309, loss_bbox_rf: 0.5742, loss: 1.8328\n",
            "2021-07-15 17:14:52,293 - mmdet - INFO - Epoch [13][300/664]\tlr: 4.394e-05, eta: 0:47:00, time: 1.319, data_time: 0.013, memory: 5552, loss_cls: 0.8261, loss_bbox: 0.4370, loss_bbox_rf: 0.5817, loss: 1.8449\n",
            "2021-07-15 17:17:03,824 - mmdet - INFO - Epoch [13][400/664]\tlr: 4.394e-05, eta: 0:45:03, time: 1.315, data_time: 0.013, memory: 5552, loss_cls: 0.8230, loss_bbox: 0.4336, loss_bbox_rf: 0.5774, loss: 1.8339\n",
            "2021-07-15 17:19:13,407 - mmdet - INFO - Epoch [13][500/664]\tlr: 4.394e-05, eta: 0:43:06, time: 1.296, data_time: 0.013, memory: 5552, loss_cls: 0.8232, loss_bbox: 0.4270, loss_bbox_rf: 0.5688, loss: 1.8190\n",
            "2021-07-15 17:21:24,667 - mmdet - INFO - Epoch [13][600/664]\tlr: 4.394e-05, eta: 0:41:08, time: 1.312, data_time: 0.013, memory: 5552, loss_cls: 0.8178, loss_bbox: 0.4342, loss_bbox_rf: 0.5787, loss: 1.8307\n"
          ],
          "name": "stderr"
        }
      ]
    },
    {
      "cell_type": "code",
      "metadata": {
        "id": "5lh8EtOyO0W3"
      },
      "source": [
        ""
      ],
      "execution_count": null,
      "outputs": []
    }
  ]
}